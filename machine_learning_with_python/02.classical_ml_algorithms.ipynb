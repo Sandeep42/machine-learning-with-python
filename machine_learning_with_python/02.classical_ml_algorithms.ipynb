{
 "cells": [
  {
   "cell_type": "markdown",
   "id": "0dd79036-dbf9-40d8-a812-08c33215f705",
   "metadata": {},
   "source": [
    "# Traditional ML Algorithms\n",
    "\n",
    "## Algorithms covered\n",
    "\n",
    "* Linear Regression (L1, L2 regaularized variants)\n",
    "* Logistic Regression\n",
    "* Naive Bayes\n",
    "* Decision Trees (Random forests & Boosting)\n",
    "* Neural Networks (Regularization(Dropout) Optimizers: SGD, Momentum, AdaGrad, Adam Optimizers)\n",
    "* Support Vector Machines (including Kernel functions)\n",
    "* Unsupervised learning: k-nearest neighbours, hierarchical clustering, HNSW, t-SNE\n",
    "* PCA, LSI, LDA, SVD\n",
    "* Recommender Systems"
   ]
  },
  {
   "cell_type": "code",
   "execution_count": 1,
   "id": "756df021-cc62-4469-8e3e-e52dea3f6046",
   "metadata": {},
   "outputs": [],
   "source": [
    "import numpy as np\n",
    "import matplotlib.pyplot as plt\n",
    "from sklearn.model_selection import train_test_split\n",
    "from sklearn.linear_model import LinearRegression\n",
    "from sklearn.metrics import mean_squared_error\n",
    "import seaborn as sns"
   ]
  },
  {
   "cell_type": "markdown",
   "id": "a82dd2f1-5824-4b5c-a0ae-e7ab2282a1b6",
   "metadata": {},
   "source": [
    "### Linear Regression"
   ]
  },
  {
   "cell_type": "markdown",
   "id": "e7f9af1b-0dc4-4c16-8f02-82a20b4b0fb5",
   "metadata": {},
   "source": [
    "* To model the relationship between a dependent variable (often called the target or outcome) and one or more independent variables (often called features or predictors)\n",
    "$$ y = \\beta_0 + \\beta_1 x + \\epsilon $$\n",
    "* Cost function: (Mean Squared Error)\n",
    "$$ J(\\beta_0, \\beta_1) = \\frac{1}{n} \\sum_{i=1}^{n} (y_i - \\hat{y}_i)^2 $$\n",
    "$$ \\hat{y}_i = \\beta_0 + \\beta_1 x_i $$\n",
    "* To find a solution, we optimize the gradients of the loss function (partial derivative) wrt to parameters and upate their values.\n",
    "$$ \\frac{\\partial J(\\beta_0, \\beta_1)}{\\partial \\beta_0} = -\\frac{2}{n} \\sum_{i=1}^{n} (y_i - \\hat{y}_i) $$\n",
    "$$ \\frac{\\partial J(\\beta_0, \\beta_1)}{\\partial \\beta_1} = -\\frac{2}{n} \\sum_{i=1}^{n} (y_i - \\hat{y}_i) x_i $$\n",
    "\n",
    "* Start with initial guess, update parameters, we repeat this process until convergence. We introduce a new parameter called learning rate.\n",
    "$$ \\beta_0^{(t+1)} = \\beta_0^{(t)} - \\eta \\cdot \\left(-2(y_i - \\hat{y}_i)\\right) $$\n",
    "\n",
    "$$ \\beta_1^{(t+1)} = \\beta_1^{(t)} - \\eta \\cdot \\left(-2(y_i - \\hat{y}_i) x_i\\right) $$"
   ]
  },
  {
   "cell_type": "markdown",
   "id": "4e4cc2e1-9d0f-4edb-8d61-eaf8d85f06ae",
   "metadata": {},
   "source": [
    "* Linear Regression assumptions: Independent, no multicollinearity, residuals need to have constant variance (Homoscedasticity), residuals are normally distributed\n",
    "* Sensitive to outliers\n",
    "* Feature scaling, applying transformations to input features could be considered, Polynomial features could be added.\n",
    "* R^2 can be used to understand amount of varaince explained by the model.\n",
    "$$ \\text{SST} = \\sum_{i=1}^{n} (y_i - \\bar{y})^2 $$\n",
    "\n",
    "$$ \\text{SSE} = \\sum_{i=1}^{n} (y_i - \\hat{y}_i)^2 $$\n",
    "\n",
    "$$ R^2 = 1 - \\frac{\\text{SSE}}{\\text{SST}} $$"
   ]
  },
  {
   "cell_type": "code",
   "execution_count": 59,
   "id": "0314d18a-e318-4e95-82f4-0940afb56e55",
   "metadata": {},
   "outputs": [],
   "source": [
    "# generate some random data\n",
    "x = np.random.rand(100)\n",
    "y = 10 * x + 5 + np.random.randn(100)\n",
    "\n",
    "# Initialize parameters (beta_0, beta_1)\n",
    "beta_0 = 0.1\n",
    "beta_1 = 0.1\n",
    "\n",
    "# Set learning rate\n",
    "eta = 0.01\n",
    "n_epochs = 100"
   ]
  },
  {
   "cell_type": "code",
   "execution_count": 61,
   "id": "ac0e6f9d-716b-46b6-98bd-c637ec6398f2",
   "metadata": {},
   "outputs": [],
   "source": [
    "loss = []\n",
    "for each_epoch in range(n_epochs):\n",
    "    for i in range(len(x)):\n",
    "        x_selected = x[i]\n",
    "        y_selected = y[i]\n",
    "        y_pred = beta_0 + beta_1 * x_selected\n",
    "        # gradient step\n",
    "        grad_beta_0 = -2 * (y_selected - y_pred)\n",
    "        grad_beta_1 = -2 * (y_selected - y_pred) * x_selected\n",
    "        # update parameters\n",
    "        beta_0 -= eta * grad_beta_0\n",
    "        beta_1 -= eta * grad_beta_1\n",
    "    # append loss\n",
    "    y_pred_full = beta_0 + beta_1 * x\n",
    "    loss_epoch = np.mean((y - y_pred_full) ** 2)\n",
    "    loss.append(loss_epoch)"
   ]
  },
  {
   "cell_type": "code",
   "execution_count": 62,
   "id": "66b54c04-c7a8-4d86-817a-9cee3d99769b",
   "metadata": {},
   "outputs": [
    {
     "data": {
      "text/plain": [
       "(5.058942006711705, 9.619030069226739)"
      ]
     },
     "execution_count": 62,
     "metadata": {},
     "output_type": "execute_result"
    }
   ],
   "source": [
    "beta_0, beta_1"
   ]
  },
  {
   "cell_type": "code",
   "execution_count": 63,
   "id": "eb930f45-4847-4f1e-a295-038f0c68c7bf",
   "metadata": {},
   "outputs": [
    {
     "data": {
      "text/plain": [
       "0.9732692284809678"
      ]
     },
     "execution_count": 63,
     "metadata": {},
     "output_type": "execute_result"
    }
   ],
   "source": [
    "loss_epoch"
   ]
  },
  {
   "cell_type": "code",
   "execution_count": 64,
   "id": "0392ba67-dcb6-4354-ae7e-7799ba098a2d",
   "metadata": {},
   "outputs": [
    {
     "data": {
      "text/plain": [
       "<Axes: >"
      ]
     },
     "execution_count": 64,
     "metadata": {},
     "output_type": "execute_result"
    },
    {
     "data": {
      "image/png": "[encoded data removed]",
      "text/plain": [
       "<Figure size 640x480 with 1 Axes>"
      ]
     },
     "metadata": {},
     "output_type": "display_data"
    }
   ],
   "source": [
    "sns.lineplot(loss)"
   ]
  },
  {
   "cell_type": "code",
   "execution_count": 65,
   "id": "1be44063-01de-4150-95bd-fcbd50c62947",
   "metadata": {},
   "outputs": [],
   "source": [
    "def r2_score(y_true, y_pred):\n",
    "    y_mean = np.mean(y_true)\n",
    "    sst = np.sum((y_true - y_mean) ** 2)\n",
    "    sse = np.sum((y_true - y_pred) ** 2)\n",
    "    return 1 - (sse / sst)"
   ]
  },
  {
   "cell_type": "code",
   "execution_count": 66,
   "id": "8a95f959-12ae-4a17-801f-c478a34a05f4",
   "metadata": {},
   "outputs": [],
   "source": [
    "y_pred_full = beta_0 + beta_1 * x "
   ]
  },
  {
   "cell_type": "code",
   "execution_count": 67,
   "id": "3781d690-b2e7-445c-819c-acac9e076fda",
   "metadata": {},
   "outputs": [
    {
     "data": {
      "text/plain": [
       "0.8992275529429388"
      ]
     },
     "execution_count": 67,
     "metadata": {},
     "output_type": "execute_result"
    }
   ],
   "source": [
    "r2_score(y, y_pred_full)"
   ]
  },
  {
   "cell_type": "code",
   "execution_count": 110,
   "id": "3e933682-bf45-499a-b62d-c361686cd4e3",
   "metadata": {},
   "outputs": [
    {
     "data": {
      "text/plain": [
       "<Axes: ylabel='Density'>"
      ]
     },
     "execution_count": 110,
     "metadata": {},
     "output_type": "execute_result"
    },
    {
     "data": {
      "image/png": "[encoded data removed]",
      "text/plain": [
       "<Figure size 640x480 with 1 Axes>"
      ]
     },
     "metadata": {},
     "output_type": "display_data"
    }
   ],
   "source": [
    "# residuals are normally distributed\n",
    "sns.kdeplot((y - y_pred_full))"
   ]
  },
  {
   "cell_type": "code",
   "execution_count": 129,
   "id": "259cac72-fec5-4c54-965c-ca94c5d98bd5",
   "metadata": {},
   "outputs": [
    {
     "name": "stdout",
     "output_type": "stream",
     "text": [
      "0.3857018947900344\n",
      "0.3992941212327826\n",
      "0.40588624673642143\n",
      "1.5575360359848107\n",
      "1.417970368656634\n"
     ]
    }
   ],
   "source": [
    "# variance of residuals should be constant\n",
    "for sample in range(5):\n",
    "    print(np.var(np.random.choice(y - y_pred_full,size=10)))"
   ]
  },
  {
   "cell_type": "markdown",
   "id": "4fa1208f-da29-4fb0-b627-91b8fa890d8b",
   "metadata": {},
   "source": [
    "#### Regularization\n",
    "\n",
    "* L1: Add a penalty proportional to the absolute values of the coefficients.\n",
    "$$ J(\\beta) = \\frac{1}{n} \\sum_{i=1}^{n} (y_i - \\hat{y}_i)^2 + \\lambda \\sum_{j=1}^{p} |\\beta_j| $$\n",
    "* L2: Add a penalty proportional to the square of values of the coefficients.\n",
    "$$ J(\\beta) = \\frac{1}{n} \\sum_{i=1}^{n} (y_i - \\hat{y}_i)^2 + \\lambda \\sum_{j=1}^{p} \\beta_j^2 $$\n",
    "* L1 can drive some coefficient to zero, could be useful in feature selection."
   ]
  },
  {
   "cell_type": "markdown",
   "id": "56ef3f49-0c29-46ee-9467-d23f42da0575",
   "metadata": {},
   "source": [
    "### L1 implementation"
   ]
  },
  {
   "cell_type": "code",
   "execution_count": 90,
   "id": "9e138ea7-e47a-48dd-a80a-b70984a43e7b",
   "metadata": {},
   "outputs": [],
   "source": [
    "# generate some random data\n",
    "x = np.random.rand(100)\n",
    "y = 10 * x + 5 + np.random.randn(100)\n",
    "\n",
    "# Initialize parameters (beta_0, beta_1)\n",
    "beta_0 = 0.1\n",
    "beta_1 = 0.1\n",
    "\n",
    "# Set learning rate\n",
    "eta = 0.01\n",
    "n_epochs = 100\n",
    "\n",
    "loss = []\n",
    "l1 = 0.5\n",
    "for each_epoch in range(n_epochs):\n",
    "    for i in range(len(x)):\n",
    "        x_selected = x[i]\n",
    "        y_selected = y[i]\n",
    "        y_pred = beta_0 + beta_1 * x_selected\n",
    "        # gradient step\n",
    "        # l1 regularization\n",
    "        grad_beta_0 = -2 * (y_selected - y_pred) + l1 * np.sign(beta_0)\n",
    "        grad_beta_1 = -2 * (y_selected - y_pred) * x_selected + l1 * np.sign(beta_1)\n",
    "        # update parameters\n",
    "        beta_0 -= eta * grad_beta_0\n",
    "        beta_1 -= eta * grad_beta_1\n",
    "    # append loss\n",
    "    y_pred_full = beta_0 + beta_1 * x\n",
    "    loss_epoch = np.mean((y - y_pred_full) ** 2)\n",
    "    loss.append(loss_epoch)"
   ]
  },
  {
   "cell_type": "code",
   "execution_count": 91,
   "id": "a94eee5c-bf36-4795-b31b-4fb0f82b5924",
   "metadata": {},
   "outputs": [
    {
     "data": {
      "text/plain": [
       "<Axes: >"
      ]
     },
     "execution_count": 91,
     "metadata": {},
     "output_type": "execute_result"
    },
    {
     "data": {
      "image/png": "[encoded data removed]",
      "text/plain": [
       "<Figure size 640x480 with 1 Axes>"
      ]
     },
     "metadata": {},
     "output_type": "display_data"
    }
   ],
   "source": [
    "sns.lineplot(loss)"
   ]
  },
  {
   "cell_type": "markdown",
   "id": "8309cffb-ebb3-4092-a624-2b94c8ed5bbc",
   "metadata": {},
   "source": [
    "### L2 implementation"
   ]
  },
  {
   "cell_type": "code",
   "execution_count": 102,
   "id": "12d40ba2-ddcd-4436-b60f-d6d9b8d3351f",
   "metadata": {},
   "outputs": [],
   "source": [
    "# generate some random data\n",
    "x = np.random.rand(100)\n",
    "y = 10 * x + 5 + np.random.randn(100)\n",
    "\n",
    "# Initialize parameters (beta_0, beta_1)\n",
    "beta_0 = 0.1\n",
    "beta_1 = 0.1\n",
    "\n",
    "# Set learning rate\n",
    "eta = 0.01\n",
    "n_epochs = 100\n",
    "\n",
    "loss = []\n",
    "l2 = 0.04\n",
    "for each_epoch in range(n_epochs):\n",
    "    for i in range(len(x)):\n",
    "        x_selected = x[i]\n",
    "        y_selected = y[i]\n",
    "        y_pred = beta_0 + beta_1 * x_selected\n",
    "        # gradient step\n",
    "        # l1 regularization\n",
    "        grad_beta_0 = -2 * (y_selected - y_pred) + 2 * l2 * beta_0\n",
    "        grad_beta_1 = -2 * (y_selected - y_pred) * x_selected + 2 * l2 * beta_1\n",
    "        # update parameters\n",
    "        beta_0 -= eta * grad_beta_0\n",
    "        beta_1 -= eta * grad_beta_1\n",
    "    # append loss\n",
    "    y_pred_full = beta_0 + beta_1 * x\n",
    "    loss_epoch = np.mean((y - y_pred_full) ** 2)\n",
    "    loss.append(loss_epoch)"
   ]
  },
  {
   "cell_type": "code",
   "execution_count": 103,
   "id": "c629b1c7-c5e2-43c9-8226-10ae3aeead7e",
   "metadata": {},
   "outputs": [
    {
     "data": {
      "text/plain": [
       "<Axes: >"
      ]
     },
     "execution_count": 103,
     "metadata": {},
     "output_type": "execute_result"
    },
    {
     "data": {
      "image/png": "[encoded data removed]",
      "text/plain": [
       "<Figure size 640x480 with 1 Axes>"
      ]
     },
     "metadata": {},
     "output_type": "display_data"
    }
   ],
   "source": [
    "sns.lineplot(loss)"
   ]
  },
  {
   "cell_type": "markdown",
   "id": "8bbc624e-d16e-4888-92b5-c7a327078bfa",
   "metadata": {},
   "source": [
    "### Logistic Regression"
   ]
  },
  {
   "cell_type": "markdown",
   "id": "17767ac4-ebc3-4d4e-a39f-03ebbab7a3a2",
   "metadata": {},
   "source": [
    "*  Used for predicting the outcome of a categorical dependent variable\n",
    "$$ \\hat{y} = \\frac{1}{1 + e^{-(w^T x + b)}} $$\n",
    "$$ L(y, \\hat{y}) = -\\sum_{i=1}^n y_i \\log(\\hat{y}_i) + (1-y_i) \\log(1-\\hat{y}_i) $$\n",
    "* Intuition behind Cross-entropy loss: You want to penalize predictions that are incorrect.\n",
    "    * If True label is 1 and predicted label is 1 => Loss would be close to 0\n",
    "    * If True label is 0 and predicted label is 1 => Loss woudld be higher.\n",
    "    * We measure uncertainity (entropy) between true labels and predicted labels, and minimize the uncertainity.\n",
    "* The output is scaled between [0,1] for any value of X."
   ]
  },
  {
   "cell_type": "code",
   "execution_count": 236,
   "id": "be80aa58-878c-4e17-9a6e-4fe63c4b29ae",
   "metadata": {},
   "outputs": [],
   "source": [
    "def sigmoid(x):\n",
    "    return 1 / (1+ np.exp(-x))"
   ]
  },
  {
   "cell_type": "code",
   "execution_count": 133,
   "id": "aaf50c1c-c55b-4c5c-9f5f-8c4b3f30dcdb",
   "metadata": {},
   "outputs": [],
   "source": [
    "x = np.linspace(-5,5,100)"
   ]
  },
  {
   "cell_type": "code",
   "execution_count": 135,
   "id": "2fcd0509-a47b-4735-8bfd-67960295273e",
   "metadata": {},
   "outputs": [],
   "source": [
    "sigmoid_x = sigmoid(x)"
   ]
  },
  {
   "cell_type": "code",
   "execution_count": 137,
   "id": "7db38566-4a8a-45c3-8eac-62a592466a8c",
   "metadata": {},
   "outputs": [
    {
     "data": {
      "text/plain": [
       "<Axes: >"
      ]
     },
     "execution_count": 137,
     "metadata": {},
     "output_type": "execute_result"
    },
    {
     "data": {
      "image/png": "[encoded data removed]",
      "text/plain": [
       "<Figure size 640x480 with 1 Axes>"
      ]
     },
     "metadata": {},
     "output_type": "display_data"
    }
   ],
   "source": [
    "sns.lineplot(x=x,y=sigmoid_x)"
   ]
  },
  {
   "cell_type": "markdown",
   "id": "2e3f9f85-f7b8-4f6b-a22f-7e527504c534",
   "metadata": {},
   "source": [
    "Gradients\n",
    "\n",
    "$$ \\frac{\\partial L}{\\partial w} = -\\sum_{i=1}^n (y_i - \\hat{y}_i) x_i $$\n",
    "\n",
    "$$  \\frac{\\partial L}{\\partial b} = -\\sum_{i=1}^n (y_i - \\hat{y}_i) $$"
   ]
  },
  {
   "cell_type": "code",
   "execution_count": 138,
   "id": "496a2c1c-0781-435b-9bbc-d6c38e115662",
   "metadata": {},
   "outputs": [],
   "source": [
    "def cross_entropy_loss(y_true, y_pred):\n",
    "    return -np.sum(y_true * np.log(y_pred) + (1 - y_true) * np.log(y_pred))"
   ]
  },
  {
   "cell_type": "code",
   "execution_count": 142,
   "id": "eed8c1f3-d801-46bb-8e6b-94ec3f554728",
   "metadata": {},
   "outputs": [
    {
     "data": {
      "text/plain": [
       "6.907755278982137"
      ]
     },
     "execution_count": 142,
     "metadata": {},
     "output_type": "execute_result"
    }
   ],
   "source": [
    "cross_entropy_loss(np.array([1]),s np.array([0.001]))"
   ]
  },
  {
   "cell_type": "code",
   "execution_count": 143,
   "id": "f928f460-b0bc-4271-aef2-672d74cd49b2",
   "metadata": {},
   "outputs": [
    {
     "data": {
      "text/plain": [
       "0.0010005003335835344"
      ]
     },
     "execution_count": 143,
     "metadata": {},
     "output_type": "execute_result"
    }
   ],
   "source": [
    "cross_entropy_loss(np.array([1]), np.array([0.999]))"
   ]
  },
  {
   "cell_type": "code",
   "execution_count": 208,
   "id": "3f9787ab-2765-45bf-9600-2cad86a1fb25",
   "metadata": {},
   "outputs": [],
   "source": [
    "def gradient_W(x, y, y_pred):\n",
    "    return -np.dot(x.T,y-y_pred)"
   ]
  },
  {
   "cell_type": "code",
   "execution_count": 209,
   "id": "aab3d03f-6461-4101-9bb3-e700a4ca5dac",
   "metadata": {},
   "outputs": [],
   "source": [
    "def gradient_b(y, y_pred):\n",
    "    return -np.sum(y-y_pred)"
   ]
  },
  {
   "cell_type": "code",
   "execution_count": 248,
   "id": "224ae638-157f-4ce3-a4f1-c4134b15cbf5",
   "metadata": {},
   "outputs": [
    {
     "name": "stdout",
     "output_type": "stream",
     "text": [
      "(100, 6)\n"
     ]
    },
    {
     "data": {
      "text/plain": [
       "100"
      ]
     },
     "execution_count": 248,
     "metadata": {},
     "output_type": "execute_result"
    }
   ],
   "source": [
    "# create a random dataset\n",
    "x = np.random.rand(100,6)\n",
    "print(x.shape)\n",
    "y = np.random.randint(0,high=2,size=100)\n",
    "len(y)"
   ]
  },
  {
   "cell_type": "code",
   "execution_count": 249,
   "id": "82253021-d73e-451f-851b-9f9affff8cc3",
   "metadata": {},
   "outputs": [],
   "source": [
    "w = np.random.randn(6)\n",
    "b = np.random.randn(1)"
   ]
  },
  {
   "cell_type": "code",
   "execution_count": 252,
   "id": "360f3a3c-7cda-4231-9033-af7d9ac89491",
   "metadata": {},
   "outputs": [],
   "source": [
    "# Set learning rate\n",
    "eta = 0.01\n",
    "n_epochs = 100\n",
    "\n",
    "loss = []\n",
    "for each_epoch in range(n_epochs):\n",
    "    for i in range(len(x)):\n",
    "        x_selected = x[[i]]\n",
    "        y_selected = y[[i]]\n",
    "        y_pred = sigmoid(np.dot(x_selected, w) + b)\n",
    "        # gradient step\n",
    "        # l1 regularization\n",
    "        grad_w = gradient_W(x_selected, y_selected, y_pred)\n",
    "        grad_b = gradient_b(y_selected, y_pred)\n",
    "        # update parameters\n",
    "        w -= eta * grad_w\n",
    "        b -= eta * grad_b\n",
    "    # append loss\n",
    "    y_pred_full = sigmoid(b + np.dot(x,w))\n",
    "    loss_epoch = cross_entropy_loss(y, y_pred_full)\n",
    "    loss.append(loss_epoch)"
   ]
  },
  {
   "cell_type": "code",
   "execution_count": 253,
   "id": "218b9e3c-4a22-40b1-b378-467a02918f8e",
   "metadata": {},
   "outputs": [
    {
     "data": {
      "image/png": "[encoded data removed]",
      "text/plain": [
       "<Figure size 640x480 with 1 Axes>"
      ]
     },
     "metadata": {},
     "output_type": "display_data"
    }
   ],
   "source": [
    "_ = sns.lineplot(loss)"
   ]
  },
  {
   "cell_type": "markdown",
   "id": "87530e9c-be51-4e95-968a-c8ba80da25b4",
   "metadata": {},
   "source": [
    "* The exponentiated coefficient (np.exp(coefficient)) gives the odds ratio. An odds ratio greater than 1 indicates that an increase in the predictor increases the odds of the outcome, while an odds ratio less than 1 indicates a decrease."
   ]
  },
  {
   "cell_type": "markdown",
   "id": "247e87be-2d68-46b5-ba53-50c7450955dd",
   "metadata": {},
   "source": [
    "### Naive Bayes"
   ]
  },
  {
   "cell_type": "markdown",
   "id": "424e05f3-0ea4-4c48-aa2a-a86352efdcf1",
   "metadata": {},
   "source": [
    "* Uses Bayes rule to update posterior probabilities using proir\n",
    "* Naive assumption is that the features are independent given the class label.\n",
    "\n",
    "$$ P(C|X) = P(X|C) * P(C) / P(X)    $$\n",
    "\n",
    "$$ P(X \\mid C) = P(X_1 \\mid C) \\cdot P(X_2 \\mid C) \\cdot \\dots \\cdot P(X_n \\mid C) $$"
   ]
  },
  {
   "cell_type": "code",
   "execution_count": 72,
   "id": "fb1fdae7-79b4-4010-bfb9-1f6e9b96edf1",
   "metadata": {},
   "outputs": [],
   "source": [
    "from collections import defaultdict, Counter\n",
    "\n",
    "class NaiveBayesClassifier():\n",
    "\n",
    "    def __init__(self):\n",
    "        self.prior_probs = {}\n",
    "        self.likelyhoods = defaultdict(dict)\n",
    "        self.classes = []\n",
    "        self.class_word_counts = defaultdict(Counter)\n",
    "        self.class_totals = {}\n",
    "\n",
    "    def fit(self, X, y):\n",
    "        self.classes = np.unique(y)\n",
    "        n_samples = len(y)\n",
    "        \n",
    "        # compute priors\n",
    "        for each_class in self.classes:\n",
    "            self.prior_probs[each_class] = np.sum(y == each_class) / n_samples\n",
    "            # print(each_class, self.prior_probs)\n",
    "        # calculate likelyhood\n",
    "        for c in self.classes:\n",
    "            X_c = X[y==c]\n",
    "            word_counts = Counter()\n",
    "            for doc in X_c:\n",
    "                word_counts.update(doc)\n",
    "        \n",
    "            self.class_word_counts[c] = word_counts\n",
    "            self.class_totals[c] = sum(word_counts.values())\n",
    "            \n",
    "    def predict(self, X):\n",
    "\n",
    "        predictions = []\n",
    "        for x in X:\n",
    "            posterior = {}\n",
    "            for c in self.classes:\n",
    "                # adding log to handle underflow\n",
    "                prior = np.log(self.prior_probs[c])\n",
    "                for word in x:\n",
    "                    likelyhood = (self.class_word_counts[c].get(word, 0) + 1) / self.class_totals[c] \n",
    "                    likelyhood = np.log(likelyhood)\n",
    "                    posterior[c] =  prior + likelyhood\n",
    "            predictions.append(posterior)\n",
    "        return predictions"
   ]
  },
  {
   "cell_type": "code",
   "execution_count": 73,
   "id": "58a6c4dd-8301-458c-abbb-e85f8a43b75c",
   "metadata": {},
   "outputs": [],
   "source": [
    "# some random examples\n",
    "X = np.array([\n",
    "    [\"free\", \"credit\", \"report\", \"score\"],\n",
    "    [\"hello\", \"friend\", \"meeting\", \"update\"],\n",
    "    [\"win\", \"prize\", \"lottery\", \"jackpot\"],\n",
    "    [\"project\", \"delivery\", \"status\", \"update\"],\n",
    "    [\"cialis\", \"viagra\", \"pharmacy\", \"discount\"],\n",
    "    [\"greeting\", \"card\", \"birthday\", \"friend\"],\n",
    "    [\"virus\", \"antivirus\", \"update\", \"protect\"],\n",
    "    [\"meeting\", \"schedule\", \"agenda\", \"team\"],\n",
    "    [\"make\", \"money\", \"fast\", \"online\"],\n",
    "    [\"trip\", \"itinerary\", \"flight\", \"hotel\"],\n",
    "    [\"pharmacy\", \"rx\", \"discount\", \"meds\"],\n",
    "    [\"friend\", \"request\", \"connect\", \"social\"],\n",
    "    [\"alert\", \"warning\", \"system\", \"error\"],\n",
    "    [\"package\", \"delivery\", \"tracking\", \"status\"],\n",
    "    [\"investment\", \"opportunity\", \"wealth\", \"grow\"]\n",
    "])\n",
    "\n",
    "y = np.array([1, 0, 1, 0, 1, 0, 1, 0, 1, 0, 1, 0, 1, 0, 1])"
   ]
  },
  {
   "cell_type": "code",
   "execution_count": 74,
   "id": "ab70c0f6-ed53-4f46-a78c-3cfd5c46d87c",
   "metadata": {},
   "outputs": [],
   "source": [
    "nb = NaiveBayesClassifier()"
   ]
  },
  {
   "cell_type": "code",
   "execution_count": 75,
   "id": "4d58eb42-a0d2-47b6-86cc-a1c98902531d",
   "metadata": {},
   "outputs": [],
   "source": [
    "nb.fit(X,y)"
   ]
  },
  {
   "cell_type": "code",
   "execution_count": 76,
   "id": "5de7d51e-c1e5-4c7f-85f7-1c473b8297e2",
   "metadata": {},
   "outputs": [
    {
     "data": {
      "text/plain": [
       "array([0, 1])"
      ]
     },
     "execution_count": 76,
     "metadata": {},
     "output_type": "execute_result"
    }
   ],
   "source": [
    "nb.classes"
   ]
  },
  {
   "cell_type": "code",
   "execution_count": 77,
   "id": "6f9bd5f2-0350-4777-900c-efa389980099",
   "metadata": {},
   "outputs": [
    {
     "data": {
      "text/plain": [
       "{0: 0.4666666666666667, 1: 0.5333333333333333}"
      ]
     },
     "execution_count": 77,
     "metadata": {},
     "output_type": "execute_result"
    }
   ],
   "source": [
    "nb.prior_probs"
   ]
  },
  {
   "cell_type": "code",
   "execution_count": 78,
   "id": "112bd744-733a-4bf8-98be-59c1b36b021e",
   "metadata": {},
   "outputs": [
    {
     "data": {
      "text/plain": [
       "defaultdict(collections.Counter,\n",
       "            {0: Counter({'friend': 3,\n",
       "                      'meeting': 2,\n",
       "                      'update': 2,\n",
       "                      'delivery': 2,\n",
       "                      'status': 2,\n",
       "                      'hello': 1,\n",
       "                      'project': 1,\n",
       "                      'greeting': 1,\n",
       "                      'card': 1,\n",
       "                      'birthday': 1,\n",
       "                      'schedule': 1,\n",
       "                      'agenda': 1,\n",
       "                      'team': 1,\n",
       "                      'trip': 1,\n",
       "                      'itinerary': 1,\n",
       "                      'flight': 1,\n",
       "                      'hotel': 1,\n",
       "                      'request': 1,\n",
       "                      'connect': 1,\n",
       "                      'social': 1,\n",
       "                      'package': 1,\n",
       "                      'tracking': 1}),\n",
       "             1: Counter({'pharmacy': 2,\n",
       "                      'discount': 2,\n",
       "                      'free': 1,\n",
       "                      'credit': 1,\n",
       "                      'report': 1,\n",
       "                      'score': 1,\n",
       "                      'win': 1,\n",
       "                      'prize': 1,\n",
       "                      'lottery': 1,\n",
       "                      'jackpot': 1,\n",
       "                      'cialis': 1,\n",
       "                      'viagra': 1,\n",
       "                      'virus': 1,\n",
       "                      'antivirus': 1,\n",
       "                      'update': 1,\n",
       "                      'protect': 1,\n",
       "                      'make': 1,\n",
       "                      'money': 1,\n",
       "                      'fast': 1,\n",
       "                      'online': 1,\n",
       "                      'rx': 1,\n",
       "                      'meds': 1,\n",
       "                      'alert': 1,\n",
       "                      'warning': 1,\n",
       "                      'system': 1,\n",
       "                      'error': 1,\n",
       "                      'investment': 1,\n",
       "                      'opportunity': 1,\n",
       "                      'wealth': 1,\n",
       "                      'grow': 1})})"
      ]
     },
     "execution_count": 78,
     "metadata": {},
     "output_type": "execute_result"
    }
   ],
   "source": [
    "nb.class_word_counts"
   ]
  },
  {
   "cell_type": "code",
   "execution_count": 79,
   "id": "27ba6d57-bea0-4144-bd8c-0d43644bd338",
   "metadata": {},
   "outputs": [],
   "source": [
    "predictions = nb.predict( np.array([\n",
    "        ['pharmacy', 'lottery', 'investment', 'wealth'],\n",
    "        ['friend', 'trip', 'update','delivery']\n",
    "    ]))"
   ]
  },
  {
   "cell_type": "code",
   "execution_count": 80,
   "id": "3fdeff6c-99e2-4c01-bebb-c5ddd5152989",
   "metadata": {},
   "outputs": [
    {
     "data": {
      "text/plain": [
       "[{0: -4.0943445622221, 1: -3.4011973816621555},\n",
       " {0: -2.995732273553991, 1: -4.0943445622221}]"
      ]
     },
     "execution_count": 80,
     "metadata": {},
     "output_type": "execute_result"
    }
   ],
   "source": [
    "predictions"
   ]
  },
  {
   "cell_type": "code",
   "execution_count": 81,
   "id": "1cb9aae4-b60b-4ce9-ae89-41be159c495e",
   "metadata": {},
   "outputs": [
    {
     "data": {
      "text/plain": [
       "1"
      ]
     },
     "execution_count": 81,
     "metadata": {},
     "output_type": "execute_result"
    }
   ],
   "source": [
    "max(predictions[0], key=predictions[0].get)"
   ]
  },
  {
   "cell_type": "code",
   "execution_count": 82,
   "id": "d267c24d-9c43-464f-9e97-6e2fb2298cc6",
   "metadata": {},
   "outputs": [
    {
     "data": {
      "text/plain": [
       "0"
      ]
     },
     "execution_count": 82,
     "metadata": {},
     "output_type": "execute_result"
    }
   ],
   "source": [
    "max(predictions[1], key=predictions[1].get)"
   ]
  },
  {
   "cell_type": "markdown",
   "id": "3a93f25c-d683-4faa-b302-1513300a310d",
   "metadata": {},
   "source": [
    "### Decision Trees"
   ]
  },
  {
   "cell_type": "markdown",
   "id": "2beabb5c-24e3-447e-8235-bf17bfb00096",
   "metadata": {},
   "source": [
    "* A type of supervised learning model that uses a tree-like structure to classify data or make predictions.\n",
    "* The Gini impurity, also known as the Gini index or Gini coefficient, is a measure of the impurity or uncertainty of a dataset or a node in a decision tree.\n",
    "$$I_G(D) = 1 - \\sum_{i=1}^C p_i^2$$\n",
    "    * If the split is perfect => Gini Index = 1 - 1 ** 2 = 0\n",
    "    * If the split is imperfect => 1 - 0.5 ** 2 - 0.5 ** 2 = 0.5\n",
    "* Entropy vs Gini index: Both measure impurity of the node. Gini index is slightly faster to compute.\n",
    "$$ H(X) = - \\sum_{x} p(x) \\log_2 p(x) $$\n",
    "* How to handle missing data?\n",
    "    * Imputation before feeding into the tree\n",
    "    * Ignore missing data: Don't split on the one where data is missing, consider only the values that are not missing\n",
    "* How to handle categorical features with lot of levels? Decision trees will struggle here as the tree becomes complex. Good strategy is to reduce the number of levels or group the rare ones into a category \"OTHERS\".\n",
    "* Pruning is used to reduce overfitting. You can set stopping criterion like maximum depth of tree, minimum samples per leaf or check impurity decrease.\n",
    "* Limitatations: Prone to overfitting, somewhat non-smooth predictions\n",
    "* Feature importances: Total impurity decrease across the entire tree by a feature.\n",
    "* How to handle regression problems? Instead of Gini-index, use MSE and minimize it. At the end of the tree, use the average value of target as predicted target.\n",
    "* Handle imbalances in classes: Either by using Oversampling, undersampling. Or modifying the Gini-index calculation towards the minority class.\n",
    "* Is multi-colinearity a problem? Typically no because decision trees are non-linear models but it would help to remove such features that otherwise complicate the tree structure."
   ]
  },
  {
   "cell_type": "code",
   "execution_count": 83,
   "id": "51e5fb32-b04d-4920-9fe5-39397f12e348",
   "metadata": {},
   "outputs": [],
   "source": [
    "def gini_index(p):\n",
    "    return 1- np.sum(np.square(p))"
   ]
  },
  {
   "cell_type": "code",
   "execution_count": 85,
   "id": "f2690b28-6825-483a-b293-c8e55bc24178",
   "metadata": {},
   "outputs": [],
   "source": [
    "dataset = np.random.dirichlet(np.ones(2), 1000)"
   ]
  },
  {
   "cell_type": "code",
   "execution_count": 93,
   "id": "f70d6460-7cf4-473f-b353-1a5b79ddb416",
   "metadata": {},
   "outputs": [
    {
     "data": {
      "text/plain": [
       "0.002280027443655852"
      ]
     },
     "execution_count": 93,
     "metadata": {},
     "output_type": "execute_result"
    }
   ],
   "source": [
    "min([gini_index(x) for x in dataset])"
   ]
  },
  {
   "cell_type": "code",
   "execution_count": 95,
   "id": "1f8a49c5-5695-4a9b-b05f-f59740b37084",
   "metadata": {},
   "outputs": [
    {
     "data": {
      "text/plain": [
       "0.49999993947724486"
      ]
     },
     "execution_count": 95,
     "metadata": {},
     "output_type": "execute_result"
    }
   ],
   "source": [
    "max([gini_index(x) for x in dataset])"
   ]
  },
  {
   "cell_type": "code",
   "execution_count": 98,
   "id": "0b4c9274-ec1b-46c3-8acf-f5371e6135a2",
   "metadata": {},
   "outputs": [
    {
     "data": {
      "image/png": "[encoded data removed]",
      "text/plain": [
       "<Figure size 640x480 with 1 Axes>"
      ]
     },
     "metadata": {},
     "output_type": "display_data"
    }
   ],
   "source": [
    "_ = sns.histplot([gini_index(x) for x in dataset])"
   ]
  },
  {
   "cell_type": "code",
   "execution_count": 479,
   "id": "2388517c-f162-41e7-a4c8-fc528785b7c8",
   "metadata": {},
   "outputs": [],
   "source": [
    "def class_counts(y):\n",
    "    classes, counts =  np.unique(y, return_counts=True)\n",
    "    return {k: v for k, v in zip(classes, counts)}"
   ]
  },
  {
   "cell_type": "code",
   "execution_count": 480,
   "id": "e7080270-c5e5-4af9-843f-b16791995b44",
   "metadata": {},
   "outputs": [],
   "source": [
    "def gini_impurity(X, y):\n",
    "    counts = class_counts(y)\n",
    "    impurity = 1\n",
    "    for count in counts.values():\n",
    "        p = count / len(X)\n",
    "        impurity -= p * p\n",
    "    return impurity"
   ]
  },
  {
   "cell_type": "code",
   "execution_count": 481,
   "id": "fd21daec-5389-4afa-9b2f-01dc8b1bacbb",
   "metadata": {},
   "outputs": [],
   "source": [
    "def get_info_gain(X, y, feature, threshold):\n",
    "    parent_impurtiy = gini_impurity(X, y)\n",
    "    left_X, left_y, right_X, right_y = split_dataset(X, y, feature, threshold)\n",
    "    n_left = len(left_X)\n",
    "    n_right = len(right_X)\n",
    "    info_gain = parent_impurtiy - ((n_left/float(len(X)))) * gini_impurity(left_X, left_y) - ((n_right/float(len(X)))) * gini_impurity(right_X, right_y)\n",
    "    return info_gain"
   ]
  },
  {
   "cell_type": "code",
   "execution_count": 650,
   "id": "33aef8de-4c2e-4068-82a8-4add57beb657",
   "metadata": {},
   "outputs": [],
   "source": [
    "def split_dataset(X, y, feature, threshold):\n",
    "    left_X = []\n",
    "    left_y = []\n",
    "    right_X = []\n",
    "    right_y = []\n",
    "    for row, label in zip(X,y):\n",
    "        # print(row[feature],threshold)\n",
    "        if row[feature] < threshold:\n",
    "            left_X.append(row)\n",
    "            left_y.append(label)\n",
    "        else:\n",
    "            right_X.append(row)\n",
    "            right_y.append(label)\n",
    "    return np.array(left_X), np.array(left_y), np.array(right_X), np.array(right_y)"
   ]
  },
  {
   "cell_type": "code",
   "execution_count": 669,
   "id": "ded148a4-3192-448f-ad54-6c9e623504b2",
   "metadata": {},
   "outputs": [],
   "source": [
    "def find_best_split(X, y, features):\n",
    "    best_gain = 0\n",
    "    best_feature = None\n",
    "    best_threshold = None\n",
    "    for each_feature in features:\n",
    "        # x_values = X[:,each_feature]\n",
    "        thresholds = list(set(X[:,each_feature]))\n",
    "        thresholds.sort()\n",
    "        for threshold in thresholds:\n",
    "            # print(each_feature, threshold)\n",
    "            gain = get_info_gain(X, y, each_feature,threshold)\n",
    "            if gain > best_gain:\n",
    "                best_gain = gain\n",
    "                best_feature = each_feature\n",
    "                best_threshold = threshold\n",
    "    return best_feature, float(best_threshold)"
   ]
  },
  {
   "cell_type": "code",
   "execution_count": 670,
   "id": "34ff9bea-0f5e-4a03-b2aa-96b9d1355ec1",
   "metadata": {},
   "outputs": [],
   "source": [
    "def decision_tree_learn(X, y,feature_len):\n",
    "    if len(set(y)) == 1:\n",
    "        return {'label': y[0]}\n",
    "    features = list(range(feature_len))\n",
    "    best_feature, best_threshold = find_best_split(X,y,features)\n",
    "    left_X,left_y, right_X, right_y = split_dataset(X, y, best_feature, best_threshold)\n",
    "    tree = {\"feature\": best_feature, \"threshold\": best_threshold, \n",
    "           \"left\": decision_tree_learn(left_X,left_y,feature_len),\n",
    "           \"right\": decision_tree_learn(right_X, right_y,feature_len)}\n",
    "    return tree"
   ]
  },
  {
   "cell_type": "code",
   "execution_count": 671,
   "id": "4e5e8afb-248a-4c9b-89b1-0da76a497133",
   "metadata": {},
   "outputs": [],
   "source": [
    "from sklearn.datasets import load_breast_cancer"
   ]
  },
  {
   "cell_type": "code",
   "execution_count": 672,
   "id": "33f4e909-1bb1-48db-ac14-f1e6bf6b7616",
   "metadata": {
    "scrolled": true
   },
   "outputs": [],
   "source": [
    "ds = load_breast_cancer()"
   ]
  },
  {
   "cell_type": "code",
   "execution_count": 673,
   "id": "1adbeddc-55ab-4063-97dd-5f58e5c7f925",
   "metadata": {},
   "outputs": [
    {
     "data": {
      "text/plain": [
       "dict_keys(['data', 'target', 'frame', 'target_names', 'DESCR', 'feature_names', 'filename', 'data_module'])"
      ]
     },
     "execution_count": 673,
     "metadata": {},
     "output_type": "execute_result"
    }
   ],
   "source": [
    "ds.keys()"
   ]
  },
  {
   "cell_type": "code",
   "execution_count": 674,
   "id": "b66cfd3d-ab53-44a2-a71f-fc21628437ca",
   "metadata": {},
   "outputs": [
    {
     "data": {
      "text/plain": [
       "array([0, 1])"
      ]
     },
     "execution_count": 674,
     "metadata": {},
     "output_type": "execute_result"
    }
   ],
   "source": [
    "np.unique(ds['target'])"
   ]
  },
  {
   "cell_type": "code",
   "execution_count": 675,
   "id": "7b0c6689-2d21-4c1f-a1d6-3b274cb33f51",
   "metadata": {
    "scrolled": true
   },
   "outputs": [],
   "source": [
    "tree = decision_tree_learn(ds['data'], ds['target'], ds['data'].shape[1])"
   ]
  },
  {
   "cell_type": "code",
   "execution_count": 676,
   "id": "f6e862f4-440a-485c-8a3b-965ec423e53b",
   "metadata": {},
   "outputs": [
    {
     "data": {
      "text/plain": [
       "{'feature': 20,\n",
       " 'threshold': 16.82,\n",
       " 'left': {'feature': 27,\n",
       "  'threshold': 0.1359,\n",
       "  'left': {'feature': 10,\n",
       "   'threshold': 1.214,\n",
       "   'left': {'feature': 13,\n",
       "    'threshold': 38.87,\n",
       "    'left': {'feature': 14,\n",
       "     'threshold': 0.003308,\n",
       "     'left': {'feature': 1,\n",
       "      'threshold': 21.58,\n",
       "      'left': {'label': 1},\n",
       "      'right': {'label': 0}},\n",
       "     'right': {'feature': 21,\n",
       "      'threshold': 33.37,\n",
       "      'left': {'label': 1},\n",
       "      'right': {'feature': 21,\n",
       "       'threshold': 33.75,\n",
       "       'left': {'label': 0},\n",
       "       'right': {'label': 1}}}},\n",
       "    'right': {'feature': 5,\n",
       "     'threshold': 0.06,\n",
       "     'left': {'label': 0},\n",
       "     'right': {'feature': 10,\n",
       "      'threshold': 0.422,\n",
       "      'left': {'label': 0},\n",
       "      'right': {'label': 1}}}},\n",
       "   'right': {'label': 0}},\n",
       "  'right': {'feature': 21,\n",
       "   'threshold': 25.84,\n",
       "   'left': {'feature': 23,\n",
       "    'threshold': 812.4,\n",
       "    'left': {'feature': 4,\n",
       "     'threshold': 0.1278,\n",
       "     'left': {'label': 1},\n",
       "     'right': {'label': 0}},\n",
       "    'right': {'feature': 0,\n",
       "     'threshold': 14.42,\n",
       "     'left': {'label': 0},\n",
       "     'right': {'label': 1}}},\n",
       "   'right': {'feature': 6,\n",
       "    'threshold': 0.09901,\n",
       "    'left': {'feature': 1,\n",
       "     'threshold': 19.77,\n",
       "     'left': {'label': 1},\n",
       "     'right': {'label': 0}},\n",
       "    'right': {'label': 0}}}},\n",
       " 'right': {'feature': 1,\n",
       "  'threshold': 16.15,\n",
       "  'left': {'feature': 7,\n",
       "   'threshold': 0.07041,\n",
       "   'left': {'label': 1},\n",
       "   'right': {'label': 0}},\n",
       "  'right': {'feature': 24,\n",
       "   'threshold': 0.08822,\n",
       "   'left': {'label': 1},\n",
       "   'right': {'feature': 26,\n",
       "    'threshold': 0.1932,\n",
       "    'left': {'feature': 1,\n",
       "     'threshold': 23.06,\n",
       "     'left': {'label': 1},\n",
       "     'right': {'label': 0}},\n",
       "    'right': {'label': 0}}}}}"
      ]
     },
     "execution_count": 676,
     "metadata": {},
     "output_type": "execute_result"
    }
   ],
   "source": [
    "tree"
   ]
  },
  {
   "cell_type": "code",
   "execution_count": 688,
   "id": "9fb88955-eee0-4262-aa90-b3bb4f38e9d0",
   "metadata": {},
   "outputs": [],
   "source": [
    "def tree_classification(tree, X):\n",
    "    if 'label' in tree:\n",
    "        return tree['label']\n",
    "    feature = tree['feature']\n",
    "    threshold = tree['threshold']\n",
    "    if X[feature] < threshold:\n",
    "        return tree_classification(tree['left'],X)\n",
    "    else:\n",
    "        return tree_classification(tree['right'],X)"
   ]
  },
  {
   "cell_type": "code",
   "execution_count": 691,
   "id": "61953b82-733a-4681-bb80-3acd71dd8209",
   "metadata": {},
   "outputs": [
    {
     "data": {
      "text/plain": [
       "0"
      ]
     },
     "execution_count": 691,
     "metadata": {},
     "output_type": "execute_result"
    }
   ],
   "source": [
    "tree_classification(tree, ds['data'][25])"
   ]
  },
  {
   "cell_type": "code",
   "execution_count": 693,
   "id": "dfe702d9-fad6-4ba6-8431-59a7b163bb83",
   "metadata": {
    "scrolled": true
   },
   "outputs": [],
   "source": [
    "predictions = [tree_classification(tree, x) for x in ds['data']]"
   ]
  },
  {
   "cell_type": "code",
   "execution_count": 696,
   "id": "3f217827-3846-441f-8016-bdba9dc97bfe",
   "metadata": {},
   "outputs": [
    {
     "data": {
      "text/plain": [
       "array([0, 1])"
      ]
     },
     "execution_count": 696,
     "metadata": {},
     "output_type": "execute_result"
    }
   ],
   "source": [
    "np.unique(predictions)"
   ]
  },
  {
   "cell_type": "code",
   "execution_count": 698,
   "id": "b70d1f95-008a-4330-8528-3d028e187d20",
   "metadata": {},
   "outputs": [
    {
     "data": {
      "text/plain": [
       "1.0"
      ]
     },
     "execution_count": 698,
     "metadata": {},
     "output_type": "execute_result"
    }
   ],
   "source": [
    "# accuracy\n",
    "(predictions == ds['target']).sum() / ds['target'].shape[0]"
   ]
  },
  {
   "cell_type": "markdown",
   "id": "52a725d9-22bd-4983-b4ed-80ecfa9b6afe",
   "metadata": {},
   "source": [
    "### Random Forests"
   ]
  },
  {
   "cell_type": "markdown",
   "id": "ab190909-0198-4bc7-88df-8801b35e03f9",
   "metadata": {},
   "source": [
    "* Decision Trees + Bagging (randomly sampling the data with replacement) + Random Subspace (features)\n",
    "* After building collection of trees, you can take a majority voting amonng all trees\n",
    "* Very accurate and robust since multiple trees are built, not-so prone to overfitting\n",
    "* Converting previous code into a class"
   ]
  },
  {
   "cell_type": "code",
   "execution_count": 793,
   "id": "0f3c76a0-51d2-4385-b323-82738ccd6fed",
   "metadata": {},
   "outputs": [],
   "source": [
    "class DecisionTreeClassifier():\n",
    "\n",
    "    def __init__(self, X, y,feature_len):\n",
    "        self.X = X\n",
    "        self.y = y\n",
    "        self.feature_len = feature_len\n",
    "\n",
    "    def class_counts(self):\n",
    "        classes, counts =  np.unique(self.y, return_counts=True)\n",
    "        return {k: v for k, v in zip(classes, counts)}\n",
    "        \n",
    "    def gini_impurity(self):\n",
    "        counts = class_counts(self.y)\n",
    "        impurity = 1\n",
    "        for count in counts.values():\n",
    "            p = count / len(self.X)\n",
    "            impurity -= p * p\n",
    "        return impurity\n",
    "\n",
    "    def get_info_gain(self, feature, threshold):\n",
    "        parent_impurtiy = gini_impurity(self.X, self.y)\n",
    "        left_X, left_y, right_X, right_y = split_dataset(self.X, self.y, feature, threshold)\n",
    "        n_left = len(left_X)\n",
    "        n_right = len(right_X)\n",
    "        info_gain = parent_impurtiy - ((n_left/float(len(self.X)))) * gini_impurity(left_X, left_y) - ((n_right/float(len(self.X)))) * gini_impurity(right_X, right_y)\n",
    "        return info_gain\n",
    "\n",
    "    def split_dataset(self, feature, threshold):\n",
    "        left_X = []\n",
    "        left_y = []\n",
    "        right_X = []\n",
    "        right_y = []\n",
    "        for row, label in zip(self.X, self.y):\n",
    "            # print(row[feature],threshold)\n",
    "            if row[feature] < threshold:\n",
    "                left_X.append(row)\n",
    "                left_y.append(label)\n",
    "            else:\n",
    "                right_X.append(row)\n",
    "                right_y.append(label)\n",
    "        return np.array(left_X), np.array(left_y), np.array(right_X), np.array(right_y)\n",
    "\n",
    "    def find_best_split(self, features):\n",
    "        best_gain = 0\n",
    "        best_feature = None\n",
    "        best_threshold = None\n",
    "        for each_feature in features:\n",
    "            # x_values = X[:,each_feature]\n",
    "            thresholds = list(set(self.X[:,each_feature]))\n",
    "            thresholds.sort()\n",
    "            for threshold in thresholds:\n",
    "                # print(each_feature, threshold)\n",
    "                gain = get_info_gain(self.X, self.y, each_feature,threshold)\n",
    "                if gain > best_gain:\n",
    "                    best_gain = gain\n",
    "                    best_feature = each_feature\n",
    "                    best_threshold = threshold\n",
    "        return best_feature, float(best_threshold)\n",
    "\n",
    "    def fit(self):\n",
    "        if len(set(self.y)) == 1:\n",
    "            return {'label': y[0]}\n",
    "        features = list(range(self.feature_len))\n",
    "        best_feature, best_threshold = find_best_split(self.X,self.y,features)\n",
    "        left_X,left_y, right_X, right_y = split_dataset(self.X, self.y, best_feature, best_threshold)\n",
    "        self.tree = {\"feature\": best_feature, \"threshold\": best_threshold, \n",
    "               \"left\": decision_tree_learn(left_X,left_y,self.feature_len),\n",
    "               \"right\": decision_tree_learn(right_X, right_y,self.feature_len)}\n",
    "\n",
    "    def predict(self, X_test):\n",
    "        node = self.tree\n",
    "        while 'label' not in node:\n",
    "            feature = self.tree['feature']\n",
    "            threshold = self.tree['threshold']\n",
    "            if X_test[feature] < threshold:\n",
    "                node = node['left']\n",
    "            else:\n",
    "                node = node['right']\n",
    "        return node['label']"
   ]
  },
  {
   "cell_type": "code",
   "execution_count": 906,
   "id": "e70810e2-f997-4c6d-b39a-1c5b6e060d80",
   "metadata": {},
   "outputs": [],
   "source": [
    "dtc = DecisionTreeClassifier(ds['data'], ds['target'],  ds['data'].shape[1])"
   ]
  },
  {
   "cell_type": "code",
   "execution_count": 907,
   "id": "3b0e0a8b-d5b7-4ce8-9bda-6838ec71526d",
   "metadata": {},
   "outputs": [],
   "source": [
    "dtc.fit()"
   ]
  },
  {
   "cell_type": "code",
   "execution_count": 908,
   "id": "7f2fa9e1-e076-4661-9e45-c938a1165e4b",
   "metadata": {},
   "outputs": [
    {
     "data": {
      "text/plain": [
       "0"
      ]
     },
     "execution_count": 908,
     "metadata": {},
     "output_type": "execute_result"
    }
   ],
   "source": [
    "dtc.predict(ds['data'][0])"
   ]
  },
  {
   "cell_type": "code",
   "execution_count": 909,
   "id": "df146545-f01f-435c-a6c0-803d2b788741",
   "metadata": {},
   "outputs": [],
   "source": [
    "predictions = [dtc.predict(x) for x in ds['data']]"
   ]
  },
  {
   "cell_type": "code",
   "execution_count": 910,
   "id": "692fc69b-fc90-458c-8409-244ee91dc515",
   "metadata": {},
   "outputs": [
    {
     "data": {
      "text/plain": [
       "0.9226713532513181"
      ]
     },
     "execution_count": 910,
     "metadata": {},
     "output_type": "execute_result"
    }
   ],
   "source": [
    "# accuracy\n",
    "(predictions == ds['target']).sum() / ds['target'].shape[0]"
   ]
  },
  {
   "cell_type": "code",
   "execution_count": 926,
   "id": "4cd27e24-8f53-4b03-ac72-2ec7a3168bf5",
   "metadata": {},
   "outputs": [
    {
     "data": {
      "text/plain": [
       "(569, 30)"
      ]
     },
     "execution_count": 926,
     "metadata": {},
     "output_type": "execute_result"
    }
   ],
   "source": [
    "ds['data'].shape"
   ]
  },
  {
   "cell_type": "code",
   "execution_count": 1050,
   "id": "b568b708-8996-4a88-a638-d4c849f59ef6",
   "metadata": {},
   "outputs": [],
   "source": [
    "from tqdm import tqdm \n",
    "\n",
    "class RandomForestClassifier():\n",
    "\n",
    "    def __init__(self, X, y, n_estimators):\n",
    "        self.X = X\n",
    "        self.y = y\n",
    "        self.n_estimators = n_estimators\n",
    "        self.estimators = []\n",
    "\n",
    "    def generate_subset(self):\n",
    "        # min_features = 3\n",
    "        # max_features = 15\n",
    "        features_selected = np.random.randint(15,self.X.shape[1],size=30)\n",
    "        # min_samples = 50\n",
    "        # max_samples = 250\n",
    "        samples_selected = np.random.randint(200,self.X.shape[0],size=500)\n",
    "        X_bagged = self.X[samples_selected, :]\n",
    "        X_bagged = X_bagged[:,features_selected]\n",
    "        y_bagged = self.y[samples_selected]\n",
    "        return X_bagged, y_bagged, len(features_selected)\n",
    "\n",
    "    def fit(self):\n",
    "        print(\"Buiding Trees...\")\n",
    "        for i in tqdm(range(self.n_estimators)):\n",
    "            # generate a new dataset\n",
    "            X_bagged, y_bagged, n_features = self.generate_subset()\n",
    "            estimator = DecisionTreeClassifier(X_bagged, y_bagged, n_features)\n",
    "            estimator.fit()\n",
    "            self.estimators.append(estimator)\n",
    "\n",
    "    def predict(self,X):\n",
    "        predictions = []\n",
    "        for estimator in self.estimators:\n",
    "            prediction = estimator.predict(X)\n",
    "            predictions.append(prediction)\n",
    "        predictions = np.array(predictions)\n",
    "        return predictions.mean()"
   ]
  },
  {
   "cell_type": "code",
   "execution_count": 1053,
   "id": "3e1aef03-d34f-43f6-9374-a9eca2d07e09",
   "metadata": {},
   "outputs": [],
   "source": [
    "rfc = RandomForestClassifier(ds['data'], ds['target'],  n_estimators=25 )"
   ]
  },
  {
   "cell_type": "code",
   "execution_count": 1054,
   "id": "dc6cad3c-85f3-4a34-86f7-2ddd28e34515",
   "metadata": {
    "scrolled": true
   },
   "outputs": [
    {
     "name": "stdout",
     "output_type": "stream",
     "text": [
      "Buiding Trees...\n"
     ]
    },
    {
     "name": "stderr",
     "output_type": "stream",
     "text": [
      "100%|███████████████████████████████████████████████████████████████████████████████████| 25/25 [02:44<00:00,  6.57s/it]\n"
     ]
    }
   ],
   "source": [
    "rfc.fit()"
   ]
  },
  {
   "cell_type": "code",
   "execution_count": 1049,
   "id": "b192ff98-9c4a-4f23-8786-5e749b1fae12",
   "metadata": {},
   "outputs": [
    {
     "data": {
      "text/plain": [
       "0.8"
      ]
     },
     "execution_count": 1049,
     "metadata": {},
     "output_type": "execute_result"
    }
   ],
   "source": [
    "rfc.predict(ds['data'][85]).mean()"
   ]
  },
  {
   "cell_type": "code",
   "execution_count": 1055,
   "id": "0e96e5ff-5c28-4a3b-894d-ca0063a9adb1",
   "metadata": {},
   "outputs": [],
   "source": [
    "predictions = [rfc.predict(x) for x in ds['data']]"
   ]
  },
  {
   "cell_type": "code",
   "execution_count": 1058,
   "id": "1a331e3b-3276-4dd8-a010-fd4467d639e4",
   "metadata": {},
   "outputs": [],
   "source": [
    "predictions = [1 if x>=0.5 else 0 for x in predictions ]"
   ]
  },
  {
   "cell_type": "code",
   "execution_count": 1060,
   "id": "c6f66faf-dda9-4b1e-a0a9-5af0eba0f030",
   "metadata": {},
   "outputs": [],
   "source": [
    "# np.unique(predictions)"
   ]
  },
  {
   "cell_type": "code",
   "execution_count": 1061,
   "id": "c6b069f5-f5b6-4300-bda3-478571ce35ce",
   "metadata": {},
   "outputs": [
    {
     "data": {
      "text/plain": [
       "0.6274165202108963"
      ]
     },
     "execution_count": 1061,
     "metadata": {},
     "output_type": "execute_result"
    }
   ],
   "source": [
    "# accuracy\n",
    "(predictions == ds['target']).sum() / ds['target'].shape[0]"
   ]
  },
  {
   "cell_type": "markdown",
   "id": "e50c7990-5704-43eb-9a80-1c88ac0c4277",
   "metadata": {},
   "source": [
    "### Gradient Boosting\n",
    "\n",
    "* Flow:\n",
    "    * Build an initial decision tree (shallow, less depth)\n",
    "    * Compute loss (MSE for Regression, Log loss for classification)\n",
    "    * Iterative train new decision trees on the loss of the previous trees\n",
    "    * Update predictions by scaling it from each tree\n",
    "* Gradient boosting sequentially builds an ensemble of decision trees, where each tree focuses on correcting the errors of the previous trees.\n",
    "* Random forests does uses deep trees (strong learners) where as Boosting uses an ensemble of weak learners (shallow tree) that learn from the mistakes of the previous learned outcomes.\n",
    "* Stopping criterion can be max_iterations or minimum decrease in loss compared to previous iteration.\n",
    "* Model updates are done by adding a new weak model that corrects the errors of the previous model."
   ]
  },
  {
   "cell_type": "code",
   "execution_count": 1075,
   "id": "f36d7e4b-5bf4-47c7-b363-94462fe8a562",
   "metadata": {},
   "outputs": [
    {
     "data": {
      "text/plain": [
       "1"
      ]
     },
     "execution_count": 1075,
     "metadata": {},
     "output_type": "execute_result"
    }
   ],
   "source": [
    "rfc.estimators[0].predict(ds['data'][0])"
   ]
  },
  {
   "cell_type": "code",
   "execution_count": 1085,
   "id": "e087b06c-10e5-4aa5-a3e8-f10e3d1414a6",
   "metadata": {},
   "outputs": [],
   "source": [
    "class GradientBoostingClassifier():\n",
    "\n",
    "    def __init__(self, X, y, n_estimators, learning_rate):\n",
    "        self.X = X\n",
    "        self.y = y\n",
    "        self.n_estimators = n_estimators\n",
    "        self.learning_rate = learning_rate\n",
    "        self.estimators = []\n",
    "\n",
    "    def fit(self):\n",
    "        print(\"Buiding Trees...\")\n",
    "        X = self.X\n",
    "        y = self.y\n",
    "        for i in tqdm(range(self.n_estimators)):\n",
    "            tree = DecisionTreeClassifier(X, y, X.shape[1])\n",
    "            tree.fit()\n",
    "            self.estimators.append(tree)\n",
    "            y_pred = np.array([tree.predict(x) for x in X])\n",
    "            # using exponential loss\n",
    "            y_residual =  np.exp(-(y * y_pred)) / (1 + np.exp(-(y * y_pred)))\n",
    "            X, y = X, y_residual\n",
    "\n",
    "    def predict(self,X):\n",
    "        predictions = np.zeros((X.shape[0],))\n",
    "        for tree in self.estimators:\n",
    "            predictions += self.learning_rate * np.array([tree.predict(x) for x in X])\n",
    "        return np.sign(predictions)"
   ]
  },
  {
   "cell_type": "code",
   "execution_count": 1086,
   "id": "23e4d8a5-33c4-4b16-b446-c2bc659a1613",
   "metadata": {},
   "outputs": [],
   "source": [
    "gbc = GradientBoostingClassifier(ds['data'], ds['target'],  n_estimators=5,learning_rate=0.05 )"
   ]
  },
  {
   "cell_type": "code",
   "execution_count": 1089,
   "id": "9181f890-1f65-47f1-8823-160e1a443241",
   "metadata": {},
   "outputs": [
    {
     "data": {
      "image/png": "[encoded data removed]",
      "text/plain": [
       "<Figure size 640x480 with 1 Axes>"
      ]
     },
     "metadata": {},
     "output_type": "display_data"
    }
   ],
   "source": [
    "import numpy as np\n",
    "import matplotlib.pyplot as plt\n",
    "\n",
    "def exponential_loss(y, y_pred):\n",
    "    return np.exp(-y * y_pred)\n",
    "\n",
    "y_true = 1  # True label (positive class)\n",
    "y_pred_range = np.linspace(0, 1, 100)  # Range of predicted probabilities\n",
    "\n",
    "loss_values = [exponential_loss(y_true, y_pred) for y_pred in y_pred_range]\n",
    "\n",
    "plt.plot(y_pred_range, loss_values)\n",
    "plt.xlabel('Predicted Probability')\n",
    "plt.ylabel('Exponential Loss')\n",
    "plt.title('Exponential Loss Function')\n",
    "plt.show()"
   ]
  },
  {
   "cell_type": "code",
   "execution_count": 1090,
   "id": "4acc1ef6-d9bc-46dc-8eb4-101c3ace4ed1",
   "metadata": {},
   "outputs": [
    {
     "name": "stdout",
     "output_type": "stream",
     "text": [
      "Buiding Trees...\n"
     ]
    },
    {
     "name": "stderr",
     "output_type": "stream",
     "text": [
      "100%|█████████████████████████████████████████████████████████████████████████████████████| 5/5 [01:08<00:00, 13.71s/it]\n"
     ]
    }
   ],
   "source": [
    "gbc.fit()"
   ]
  },
  {
   "cell_type": "code",
   "execution_count": 1092,
   "id": "8853eb3e-e01b-4c88-b4c8-fdb973be0db4",
   "metadata": {},
   "outputs": [],
   "source": [
    "predictions = gbc.predict(ds['data'])"
   ]
  },
  {
   "cell_type": "code",
   "execution_count": 1093,
   "id": "096e9a94-ee2f-4251-a34a-7684f9e51210",
   "metadata": {},
   "outputs": [
    {
     "data": {
      "text/plain": [
       "0.6274165202108963"
      ]
     },
     "execution_count": 1093,
     "metadata": {},
     "output_type": "execute_result"
    }
   ],
   "source": [
    "# accuracy\n",
    "(predictions == ds['target']).sum() / ds['target'].shape[0]"
   ]
  },
  {
   "cell_type": "markdown",
   "id": "4d36adf3-0a9a-4d14-9aae-84f83a6f50e4",
   "metadata": {},
   "source": [
    "### Neural Networks (Vanilla)\n",
    "\n",
    "* Let's build a simple NN with Input => Hidden => Output (also called as Multi-layer perceptron)\n",
    "* Forward Pass:\n",
    "\n",
    "$$  z^{(1)} = W^{(1)} \\cdot x + b^{(1)} $$\n",
    "\n",
    "$$ a^{(1)} = \\text{ReLU}(z^{(1)}) = \\max(0, z^{(1)}) $$\n",
    "\n",
    "$$    z^{(2)} = W^{(2)} \\cdot a^{(1)} + b^{(2)} $$\n",
    "\n",
    "$$    \\hat{y} = \\text{Softmax}(z^{(2)}) = \\frac{e^{z^{(2)}}}{\\sum_{j} e^{z^{(2)}_j}} $$\n",
    "\n",
    "$$    \\mathcal{L} = -\\frac{1}{m} \\sum_{i=1}^{m} y_i \\log(\\hat{y}_i) $$\n",
    "\n",
    "* Backward Pass:\n",
    "\n",
    "    * Gradient of Cross entropy  $$\\frac{\\partial \\mathcal{L}}{\\partial z^{(2)}} = \\hat{y} - y $$\n",
    "    * Hidden layer $$ \\frac{\\partial \\mathcal{L}}{\\partial W^{(2)}} = a^{(1)T} \\cdot \\frac{\\partial \\mathcal{L}}{\\partial z^{(2)}} $$\n",
    "  $$ \\frac{\\partial \\mathcal{L}}{\\partial b^{(2)}} = \\frac{\\partial \\mathcal{L}}{\\partial z^{(2)}} $$\n",
    "    * Hidden layer activation\n",
    "  $$ \\frac{\\partial \\mathcal{L}}{\\partial a^{(1)}} = \\frac{\\partial \\mathcal{L}}{\\partial z^{(2)}} \\cdot W^{(2)T} $$\n",
    "    * Input layer\n",
    "  $$ \\frac{\\partial \\mathcal{L}}{\\partial z^{(1)}} = \\frac{\\partial \\mathcal{L}}{\\partial a^{(1)}} \\cdot \\mathbf{1}_{z^{(1)} > 0} $$\n",
    "$$ \\frac{\\partial \\mathcal{L}}{\\partial W^{(1)}} = x^T \\cdot \\frac{\\partial \\mathcal{L}}{\\partial z^{(1)}} $$\n",
    "$$ \\frac{\\partial \\mathcal{L}}{\\partial b^{(1)}} = \\frac{\\partial \\mathcal{L}}{\\partial z^{(1)}} $$"
   ]
  },
  {
   "cell_type": "code",
   "execution_count": 130,
   "id": "46f95729-c1c4-4aa2-a4d0-f6cae6492b41",
   "metadata": {},
   "outputs": [],
   "source": [
    "def Relu(x):\n",
    "    return np.maximum(0,x)"
   ]
  },
  {
   "cell_type": "code",
   "execution_count": 256,
   "id": "f9c01fa4-f10c-40f5-877a-8bfa3dab58d5",
   "metadata": {},
   "outputs": [],
   "source": [
    "def softmax(x):\n",
    "    # for numerical stability\n",
    "    e_x = np.exp(x - np.max(x))\n",
    "    return e_x / e_x.sum(axis=1,keepdims=True)"
   ]
  },
  {
   "cell_type": "code",
   "execution_count": 228,
   "id": "9c36cbba-2a2f-46eb-8522-8dcac779aa9e",
   "metadata": {},
   "outputs": [],
   "source": [
    "def forward_pass(X,W1,b1,W2,b2):\n",
    "    z1 = np.dot(X,W1) + b1\n",
    "    A1 = Relu(z1)\n",
    "    z2 = np.dot(A1,W2)+ b2\n",
    "    A2 = softmax(z2)\n",
    "    return z1, A1, z2, A2"
   ]
  },
  {
   "cell_type": "code",
   "execution_count": 229,
   "id": "3c4557f7-4ee4-44d2-90b7-b965b8f59734",
   "metadata": {},
   "outputs": [],
   "source": [
    "def init_parameters(input_size, hidden_size, output_size):\n",
    "    W1 = np.random.randn(input_size, hidden_size) * 0.01\n",
    "    b1 = np.random.randn(1, hidden_size)\n",
    "    W2 = np.random.randn(hidden_size, output_size) * 0.01\n",
    "    b2 = np.random.randn(1, output_size)\n",
    "    return W1, b1, W2, b2"
   ]
  },
  {
   "cell_type": "code",
   "execution_count": 230,
   "id": "6ce605ba-8037-4794-82b4-b1c51e653e82",
   "metadata": {},
   "outputs": [],
   "source": [
    "def backward_prop(X,y,z1,A1,A2,W2):\n",
    "    # retun all gridents\n",
    "    dz2 = (A2- y) / X.shape[0]\n",
    "    dw2 = np.dot(A1.T,dz2)\n",
    "    db2 = np.sum(dz2,axis=0,keepdims=True)\n",
    "    da1 = np.dot(dz2,W2.T)\n",
    "    dz1 = da1 * (z1 > 0)\n",
    "    dw1 = np.dot(X.T,dz1)\n",
    "    db1 = np.sum(dz1,axis=0,keepdims=True)\n",
    "    return dw1, db1, dw2, db2"
   ]
  },
  {
   "cell_type": "code",
   "execution_count": 231,
   "id": "e72ec118-51c3-44dc-bf12-17b6c1f71352",
   "metadata": {},
   "outputs": [],
   "source": [
    "def update_parameters(W1, W2, b1, b2, dw1, dw2, db1, db2, learning_rate):\n",
    "    W1 -= learning_rate * dw1\n",
    "    b1 -= learning_rate * db1\n",
    "    W2 -= learning_rate * dw2\n",
    "    b2 -= learning_rate * db2\n",
    "    return W1, b1, W2, b2"
   ]
  },
  {
   "cell_type": "code",
   "execution_count": 232,
   "id": "bb9288a5-7ae4-4ff1-ae45-43a9ca7d88be",
   "metadata": {},
   "outputs": [],
   "source": [
    "def one_hot_encode(y, num_classes):\n",
    "    one_hot = np.zeros((y.size, num_classes))\n",
    "    one_hot[np.arange(y.size), y] = 1\n",
    "    return one_hot"
   ]
  },
  {
   "cell_type": "code",
   "execution_count": 233,
   "id": "b91b76ef-5dc3-48fe-959a-57f39937784e",
   "metadata": {},
   "outputs": [],
   "source": [
    "def cross_entropy_loss(y_true, y_pred):\n",
    "    # numerical stability\n",
    "    epsilon = 1e-15\n",
    "    y_pred = np.clip(y_pred, epsilon, 1 - epsilon)\n",
    "    log_loss= -np.sum(y_true * np.log(y_pred))\n",
    "    return log_loss / y_pred.shape[0]"
   ]
  },
  {
   "cell_type": "code",
   "execution_count": 234,
   "id": "3718d806-0f31-4eff-a892-4b0591395b47",
   "metadata": {},
   "outputs": [],
   "source": [
    "# cross_entropy_loss(Y_train,np.random.randn(100,10))"
   ]
  },
  {
   "cell_type": "code",
   "execution_count": 289,
   "id": "ecc8b8a8-ba34-4a33-a28b-77ca14eb4e1e",
   "metadata": {},
   "outputs": [],
   "source": [
    "def train(X,y,input_size,hidden_size,output_size,learning_rate=0.01,n_epochs=1000):\n",
    "    # init parameters\n",
    "    W1, b1, W2, b2 = init_parameters(input_size=input_size, hidden_size=hidden_size, output_size=output_size)\n",
    "    loss_vals = []\n",
    "    for i in range(n_epochs):\n",
    "        # forward pass\n",
    "        z1, A1, z2, A2 = forward_pass(X,W1,b1,W2,b2)\n",
    "        # compute loss\n",
    "        loss = cross_entropy_loss(y,A2)\n",
    "        # backward pass\n",
    "        dw1, db1, dw2, db2 = backward_prop(X,y,z1,A1,A2,W2)\n",
    "        # update weights using dgrads\n",
    "        W1, b1, W2, b2 = update_parameters(W1, W2, b1, b2, dw1, dw2, db1, db2, learning_rate)\n",
    "        # track loss\n",
    "        loss_vals.append(loss)\n",
    "    return loss_vals, W1, b1, W2, b2"
   ]
  },
  {
   "cell_type": "code",
   "execution_count": 290,
   "id": "50cc660e-39f5-4509-bfe6-1ae7a89d5612",
   "metadata": {},
   "outputs": [],
   "source": [
    "X_train = np.random.rand(10, 10)   # 100 samples, 3 features\n",
    "Y_train = np.random.randint(0, 2, 10)  # 100 samples (10 classes)\n",
    "Y_train = one_hot_encode(Y_train,2)"
   ]
  },
  {
   "cell_type": "code",
   "execution_count": 291,
   "id": "8f24ef81-6886-4aa3-b6a3-7c42d5599bc9",
   "metadata": {
    "scrolled": true
   },
   "outputs": [],
   "source": [
    "loss, W1, b1, W2, b2 = train(X_train,Y_train,10,5,2)"
   ]
  },
  {
   "cell_type": "code",
   "execution_count": 292,
   "id": "bfd6d9ed-7bed-42df-aae6-47989a00398b",
   "metadata": {},
   "outputs": [
    {
     "data": {
      "text/plain": [
       "<Axes: >"
      ]
     },
     "execution_count": 292,
     "metadata": {},
     "output_type": "execute_result"
    },
    {
     "data": {
      "image/png": "[encoded data removed]",
      "text/plain": [
       "<Figure size 640x480 with 1 Axes>"
      ]
     },
     "metadata": {},
     "output_type": "display_data"
    }
   ],
   "source": [
    "sns.lineplot(loss)"
   ]
  },
  {
   "cell_type": "markdown",
   "id": "7f057686-4591-4f7a-988f-ff7bbc42d652",
   "metadata": {},
   "source": [
    "On digits dataset"
   ]
  },
  {
   "cell_type": "code",
   "execution_count": 293,
   "id": "b76d27dd-9872-498d-a214-e3126e3c86ec",
   "metadata": {},
   "outputs": [],
   "source": [
    "from sklearn.datasets import load_digits\n",
    "digits = load_digits()"
   ]
  },
  {
   "cell_type": "code",
   "execution_count": null,
   "id": "0a28d4c3-6aed-4084-ae82-9225583ed3a8",
   "metadata": {},
   "outputs": [],
   "source": []
  },
  {
   "cell_type": "code",
   "execution_count": 330,
   "id": "ac053a9c-fa30-4412-90c4-b175e1d67536",
   "metadata": {},
   "outputs": [
    {
     "data": {
      "image/png": "[encoded data removed]",
      "text/plain": [
       "<Figure size 1500x300 with 10 Axes>"
      ]
     },
     "metadata": {},
     "output_type": "display_data"
    }
   ],
   "source": [
    "_, axes = plt.subplots(nrows=1, ncols=10, figsize=(15, 3))\n",
    "for ax, image, label in zip(axes, digits.images, digits.target):\n",
    "    ax.set_axis_off()\n",
    "    ax.imshow(image, cmap=plt.cm.gray_r, interpolation=\"nearest\")\n",
    "    ax.set_title(\"Training: %i\" % label)"
   ]
  },
  {
   "cell_type": "code",
   "execution_count": 295,
   "id": "353635de-67ad-4069-a13c-8438147e78cb",
   "metadata": {},
   "outputs": [],
   "source": [
    "n_samples = len(digits.images)\n",
    "X = digits.images.reshape((n_samples, -1))"
   ]
  },
  {
   "cell_type": "code",
   "execution_count": 296,
   "id": "676054cb-0520-488d-b40e-efc262c7cafb",
   "metadata": {},
   "outputs": [
    {
     "data": {
      "text/plain": [
       "(1797, 64)"
      ]
     },
     "execution_count": 296,
     "metadata": {},
     "output_type": "execute_result"
    }
   ],
   "source": [
    "X.shape"
   ]
  },
  {
   "cell_type": "code",
   "execution_count": 297,
   "id": "7f272934-bcca-4c57-b52c-06806b02dd2f",
   "metadata": {},
   "outputs": [],
   "source": [
    "Y = one_hot_encode(digits.target,10)"
   ]
  },
  {
   "cell_type": "code",
   "execution_count": 298,
   "id": "6e0bbd63-ea19-4c4b-a64f-464dcaacba25",
   "metadata": {},
   "outputs": [
    {
     "data": {
      "text/plain": [
       "(1797, 10)"
      ]
     },
     "execution_count": 298,
     "metadata": {},
     "output_type": "execute_result"
    }
   ],
   "source": [
    "Y.shape"
   ]
  },
  {
   "cell_type": "code",
   "execution_count": 299,
   "id": "b7bdf71d-635a-4ea0-8244-7c1870451b96",
   "metadata": {},
   "outputs": [],
   "source": [
    "X_train, X_test, y_train, y_test = train_test_split(\n",
    "    X, Y, test_size=0.33, random_state=42)"
   ]
  },
  {
   "cell_type": "code",
   "execution_count": 300,
   "id": "e9a2cdee-2e42-464e-a55b-7d85355c9b87",
   "metadata": {},
   "outputs": [
    {
     "data": {
      "text/plain": [
       "(1203, 64)"
      ]
     },
     "execution_count": 300,
     "metadata": {},
     "output_type": "execute_result"
    }
   ],
   "source": [
    "X_train.shape"
   ]
  },
  {
   "cell_type": "code",
   "execution_count": 301,
   "id": "e4c7021d-c421-4e99-a196-8d3194512aac",
   "metadata": {},
   "outputs": [
    {
     "data": {
      "text/plain": [
       "(1203, 10)"
      ]
     },
     "execution_count": 301,
     "metadata": {},
     "output_type": "execute_result"
    }
   ],
   "source": [
    "y_train.shape"
   ]
  },
  {
   "cell_type": "code",
   "execution_count": 302,
   "id": "d38548e6-85d4-4b27-97c4-7bcef6627de5",
   "metadata": {},
   "outputs": [],
   "source": [
    "loss, W1, b1, W2, b2 = train(X_train,y_train,64,16,10)"
   ]
  },
  {
   "cell_type": "code",
   "execution_count": 331,
   "id": "b5ce0467-def8-4ae6-85d5-dbca975b84bd",
   "metadata": {},
   "outputs": [
    {
     "data": {
      "image/png": "[encoded data removed]",
      "text/plain": [
       "<Figure size 640x480 with 1 Axes>"
      ]
     },
     "metadata": {},
     "output_type": "display_data"
    }
   ],
   "source": [
    "_ = sns.lineplot(loss)"
   ]
  },
  {
   "cell_type": "code",
   "execution_count": 306,
   "id": "c858b375-acda-487f-95ee-47e2dd1da8a5",
   "metadata": {},
   "outputs": [],
   "source": [
    "# predictions\n",
    "_,_,_,preds = forward_pass(X_test,W1,b1,W2,b2)"
   ]
  },
  {
   "cell_type": "code",
   "execution_count": 316,
   "id": "9e2ceb31-e94e-4d83-a628-b1d9a490bf87",
   "metadata": {},
   "outputs": [],
   "source": [
    "predicted = np.argmax(preds,axis=1)"
   ]
  },
  {
   "cell_type": "code",
   "execution_count": 314,
   "id": "70c92ce0-f8ca-4601-acc8-f10c9c72edbe",
   "metadata": {},
   "outputs": [
    {
     "data": {
      "text/plain": [
       "0.9478114478114478"
      ]
     },
     "execution_count": 314,
     "metadata": {},
     "output_type": "execute_result"
    }
   ],
   "source": [
    "# accuracy\n",
    "(np.argmax(preds,axis=1) == np.argmax(y_test,axis=1)).sum() / len(y_test)"
   ]
  },
  {
   "cell_type": "code",
   "execution_count": 327,
   "id": "805f92b2-d845-4645-8ae4-e1ead6ae5f09",
   "metadata": {},
   "outputs": [
    {
     "data": {
      "image/png": "[encoded data removed]",
      "text/plain": [
       "<Figure size 1500x300 with 8 Axes>"
      ]
     },
     "metadata": {},
     "output_type": "display_data"
    }
   ],
   "source": [
    "_, axes = plt.subplots(nrows=1, ncols=8, figsize=(15, 3))\n",
    "for ax, image, prediction in zip(axes, X_test, predicted):\n",
    "    ax.set_axis_off()\n",
    "    image = image.reshape(8, 8)\n",
    "    ax.imshow(image, cmap=plt.cm.gray_r, interpolation=\"nearest\")\n",
    "    ax.set_title(f\"Prediction: {prediction}\")"
   ]
  },
  {
   "cell_type": "markdown",
   "id": "fa1bef14-93cb-4091-8c96-57b805c70bc5",
   "metadata": {},
   "source": [
    "### Optimizers\n",
    "\n",
    "#### SGD and Momentum\n",
    "\n",
    "* Optimizers play a crucial role in training neural networks by updating the weights and biases in a way that minimizes the loss function.\n",
    "    * SGD\n",
    "    * Momentum\n",
    "    * RMSProp\n",
    "    * Adam\n",
    "* SGD: Simplest. Update the weights by moving in negative direction of loss\n",
    "$$ \\theta = \\theta - \\eta \\cdot \\nabla_\\theta J(\\theta) $$\n",
    "* Momentum:\n",
    "    * SGD may get struck in local minima\n",
    "    * Momentum helps accelerate SGD in the relevant direction and dampens oscillations.\n",
    "    * It does this by adding a fraction of previous update to the current update.\n",
    "        * $v$ is the velocity (accumulated gradient).\n",
    "        * $\\gamma $ is the momentum term (usually between 0.8 and 0.99).\n",
    "$$ v = \\gamma v + \\eta \\cdot \\nabla_\\theta J(\\theta) $$\n",
    "\n",
    "$$ \\theta = \\theta - v $$\n",
    "\n"
   ]
  },
  {
   "cell_type": "code",
   "execution_count": 333,
   "id": "781bf21b-ce3a-4d12-8d7a-2e27347899fa",
   "metadata": {},
   "outputs": [],
   "source": [
    "def momentum_update(params, grads, velocities, learning_rate, momentum=0.9):\n",
    "    for i in range(len(params)):\n",
    "        velocities[i] = momentum * velocities[i] + learning_rate * grads[i]\n",
    "        params[i] -= velocities[i]\n",
    "    return params, velocities"
   ]
  },
  {
   "cell_type": "markdown",
   "id": "c9aa9ad6-7081-4ade-8c2c-a3d6fc65d6b0",
   "metadata": {},
   "source": [
    "#### RMSProp\n",
    "    * RMSProp divides the learning rate for a weight by a running average of the magnitudes of recent gradients for that weight.\n",
    "        * $ E[g^2]_t $is the moving average of the squared gradients.\n",
    "        * $ \\rho $ is the decay rate (typically 0.9).\n",
    "        * $ \\epsilon $ is a small value to prevent division by zero.\n",
    "$$ E[g^2]_t = \\rho E[g^2]_{t-1} + (1 - \\rho) g_t^2 $$\n",
    "$$ \\theta = \\theta - \\frac{\\eta}{\\sqrt{E[g^2]_t + \\epsilon}} \\cdot g_t $$"
   ]
  },
  {
   "cell_type": "markdown",
   "id": "1f91ecf6-5ab2-460f-a30a-4f44a8942eb8",
   "metadata": {},
   "source": [
    "* Not so intuitive. Let's simulate some gradients and see"
   ]
  },
  {
   "cell_type": "code",
   "execution_count": 334,
   "id": "b0d47908-211d-4d94-907a-483490fee531",
   "metadata": {},
   "outputs": [],
   "source": [
    "# Simulate gradients for 100 iterations\n",
    "np.random.seed(42)\n",
    "gradients = np.random.randn(100) * 0.1  # Simulated noisy gradients"
   ]
  },
  {
   "cell_type": "code",
   "execution_count": 342,
   "id": "de527cac-4cf4-4af6-b00f-97ac45da1675",
   "metadata": {},
   "outputs": [],
   "source": [
    "def rms_prop(gradients, decay_rate, epsilon=1e-8):\n",
    "    running_rms_grad = []\n",
    "    avg_rms_grad = 0\n",
    "    for g in gradients:\n",
    "        avg_rms_grad = decay_rate * avg_rms_grad + (1-decay_rate) * g**2\n",
    "        running_rms_grad.append(avg_rms_grad)\n",
    "    return running_rms_grad"
   ]
  },
  {
   "cell_type": "code",
   "execution_count": 343,
   "id": "8d4fef1c-4e7e-403f-9180-5f161bf4be4d",
   "metadata": {},
   "outputs": [],
   "source": [
    "# Different decay rates to visualize\n",
    "decay_rates = [0.5, 0.9, 0.99]"
   ]
  },
  {
   "cell_type": "code",
   "execution_count": 344,
   "id": "886e26ca-710c-4284-918b-28440fa69dfd",
   "metadata": {},
   "outputs": [
    {
     "data": {
      "image/png": "[encoded data removed]",
      "text/plain": [
       "<Figure size 1000x600 with 1 Axes>"
      ]
     },
     "metadata": {},
     "output_type": "display_data"
    }
   ],
   "source": [
    "# Plot the running average of squared gradients for different decay rates\n",
    "plt.figure(figsize=(10, 6))\n",
    "\n",
    "for decay_rate in decay_rates:\n",
    "    running_avg_sq_grad = rms_prop(gradients, decay_rate)\n",
    "    plt.plot(running_avg_sq_grad, label=f'Decay Rate: {decay_rate}')\n",
    "\n",
    "plt.title('Impact of Decay Rate on RMSProp Running Average of Squared Gradients')\n",
    "plt.xlabel('Iteration')\n",
    "plt.ylabel('Running Average of Squared Gradients')\n",
    "plt.legend()\n",
    "plt.grid(True)\n",
    "plt.show()\n"
   ]
  },
  {
   "cell_type": "markdown",
   "id": "ad6cdb66-7b4f-49a3-bd92-bc24b8e39f1d",
   "metadata": {},
   "source": [
    "* At 0.5, the moving average reacts equally to the current gradient vs past gradients and fluctuates more.\n",
    "* At 0.9, the fluctuations are less but it still reacts to the current gradient and adjusts to it.\n",
    "* At 0.99, the fluctuations are smoothened out."
   ]
  },
  {
   "cell_type": "code",
   "execution_count": 365,
   "id": "9954c885-a2e3-4725-b2ed-a2eb7243e7c8",
   "metadata": {},
   "outputs": [],
   "source": [
    "def momentum_sim(gradients, momentum, learning_rate=0.01):\n",
    "    velocities = []\n",
    "    v = 0\n",
    "    for g in gradients:\n",
    "        v = momentum * v + learning_rate * g\n",
    "        velocities.append(v)\n",
    "    return velocities"
   ]
  },
  {
   "cell_type": "code",
   "execution_count": 370,
   "id": "1f92cebb-16ce-4e70-bf5e-d657353026ce",
   "metadata": {},
   "outputs": [],
   "source": [
    "# Simulate a gradually increasing gradient with some noise\n",
    "np.random.seed(0)\n",
    "iterations = 100\n",
    "gradients = np.linspace(0.1, 1.0, iterations) + np.random.randn(iterations) * 0.1"
   ]
  },
  {
   "cell_type": "code",
   "execution_count": 371,
   "id": "fb389231-d6f1-4efa-8222-2c9b063a3c77",
   "metadata": {},
   "outputs": [
    {
     "data": {
      "image/png": "[encoded data removed]",
      "text/plain": [
       "<Figure size 1000x600 with 1 Axes>"
      ]
     },
     "metadata": {},
     "output_type": "display_data"
    }
   ],
   "source": [
    "# Different momentum values to visualize\n",
    "momentum_values = [0.0, 0.5, 0.9, 0.99]\n",
    "\n",
    "# Plot the velocity updates for different momentum values\n",
    "plt.figure(figsize=(10, 6))\n",
    "\n",
    "for momentum in momentum_values:\n",
    "    velocities = momentum_sim(gradients, momentum)\n",
    "    plt.plot(velocities, label=f'Momentum: {momentum}')\n",
    "\n",
    "plt.title('Impact of Momentum on Velocity Updates')\n",
    "plt.xlabel('Iteration')\n",
    "plt.ylabel('Velocity')\n",
    "plt.legend()\n",
    "plt.grid(True)\n",
    "plt.show()\n"
   ]
  },
  {
   "cell_type": "markdown",
   "id": "ada5022b-6812-46fb-84d2-a2393d2c8bb4",
   "metadata": {},
   "source": [
    "* As the momentum increases, the gradients become smooth"
   ]
  },
  {
   "cell_type": "markdown",
   "id": "fc7a90b6-d149-44fe-bf6f-fa3fb6b8a6eb",
   "metadata": {},
   "source": [
    "#### Adam\n",
    "\n",
    "* Combines both momentum and RMSProp\n",
    "    *  $ m_t $  and $ v_t $ are the first and second moments of the gradient.\n",
    "    * $ \\beta_1 $ and $ \\beta_2 $ are decay rates for the first and second moments (typically 0.9 and 0.999).\n",
    "    * $ \\hat{m}_t $ and $ \\hat{v}_t $ are bias-corrected estimates of the moments.\n",
    "$$ m_t = \\beta_1 m_{t-1} + (1 - \\beta_1) g_t $$\n",
    "$$ v_t = \\beta_2 v_{t-1} + (1 - \\beta_2) g_t^2 $$\n",
    "$$ \\hat{m}_t = \\frac{m_t}{1 - \\beta_1^t}, \\quad \\hat{v}_t = \\frac{v_t}{1 - \\beta_2^t} $$\n",
    "$$ \\theta = \\theta - \\frac{\\eta}{\\sqrt{\\hat{v}_t} + \\epsilon} \\cdot \\hat{m}_t $$"
   ]
  },
  {
   "cell_type": "code",
   "execution_count": 372,
   "id": "17c5e238-dbe7-4620-b793-0beb4f0790ab",
   "metadata": {},
   "outputs": [],
   "source": [
    "def momentum_optimizer(params, grads, m, v, t, \n",
    "                       learning_rate=0.001, beta1=0.9, beta2=0.999, epsilon=1e-8):\n",
    "    m = beta1 * m + (1-beta1) * grads\n",
    "    v = beta2 * v + (1-beta2) * grads ** 2\n",
    "    m_hat = m / (1- beta1 ** t)\n",
    "    v_hat = v / (1- beta2 ** t)\n",
    "    params -= learning_rate * m_hat / (np.sqrt(v_hat + epsilon))\n",
    "    return params"
   ]
  },
  {
   "cell_type": "markdown",
   "id": "45606a2a-2b38-4774-bdf9-cdb7b05a2fb6",
   "metadata": {},
   "source": [
    "### Support Vector Machines"
   ]
  },
  {
   "cell_type": "markdown",
   "id": "b63ded82-3b6f-4323-af5e-371f6d8c4a55",
   "metadata": {},
   "source": [
    "* Objective is to find a hyperplane that separates the data into various classes.\n",
    "* Maximizes margin which is the distance between closest data points of different classes.\n",
    "* Kernel trick: For non-linear data, transform the data into a space which becomes linearly separable.\n",
    "* Minimze\n",
    "$$ \\min_{\\mathbf{w}, b} \\quad \\frac{1}{2} \\|\\mathbf{w}\\|^2 $$\n",
    "Constrained by $$ y_i (\\mathbf{w} \\cdot \\mathbf{x}_i + b) \\geq 1 \\quad \\forall i $$\n",
    "* Loss function\n",
    "$$  \\text{Loss} = \\frac{1}{2} \\|\\mathbf{w}\\|^2 + \\lambda \\sum_{i=1}^n \\max(0, 1 - y_i (\\mathbf{w} \\cdot \\mathbf{x}_i + b)) $$\n",
    "* If the point is correctly classified and far away from the boundary y(wx+b) > 1 => Hinge loss ~= 0\n",
    "* If the point is incorrectly classified and too close to the boundary y(wx+b) < 1 => Hinge loss = Positive. Larger distance gets penalized more heavily."
   ]
  },
  {
   "cell_type": "code",
   "execution_count": 559,
   "id": "696fdfb4-ad9f-41ce-ba2a-31b372c0d5ba",
   "metadata": {},
   "outputs": [],
   "source": [
    "class SVM():\n",
    "\n",
    "    def __init__(self, X, y, learning_rate=0.001,reg=0.01,n_iters=1000):\n",
    "        self.learning_rate = learning_rate\n",
    "        self.reg = reg\n",
    "        self.X = X\n",
    "        self.y = y\n",
    "        self.n_iters = n_iters\n",
    "\n",
    "    def fit(self):\n",
    "        self.y = np.where(self.y<=0,-1,1)\n",
    "        self.w = np.random.randn(self.X.shape[1]) * 0.01\n",
    "        self.b = 0\n",
    "        for i in range(self.n_iters):\n",
    "            for index, x_i in enumerate(self.X):\n",
    "                condition = self.y[index] * (np.dot(x_i, self.w) - self.b) >= 1\n",
    "                if condition:\n",
    "                    # update grads, no penality as margin condition is met\n",
    "                    # only regularization gets applied\n",
    "                    self.w -= self.learning_rate * ( self.reg * self.w)\n",
    "                else:\n",
    "                    # update grads, penality applicable\n",
    "                    self.w -= self.learning_rate * (self.reg * self.w - np.dot(x_i,self.y[index]))\n",
    "                    self.b -= self.learning_rate * self.y[index]\n",
    "\n",
    "    def predict(self,X):\n",
    "        output = np.dot(X,self.w)-self.b\n",
    "        return np.sign(output)"
   ]
  },
  {
   "cell_type": "code",
   "execution_count": 560,
   "id": "1defca9f-f25f-4725-b8c2-806f685c776c",
   "metadata": {},
   "outputs": [],
   "source": [
    "from sklearn.datasets import load_breast_cancer\n",
    "from sklearn.preprocessing import StandardScaler"
   ]
  },
  {
   "cell_type": "code",
   "execution_count": 561,
   "id": "35654629-2bf9-4a22-a185-e3b5958b846b",
   "metadata": {},
   "outputs": [],
   "source": [
    "ss= StandardScaler()"
   ]
  },
  {
   "cell_type": "code",
   "execution_count": 562,
   "id": "6de11f75-c71b-4ef0-8557-287975f628ce",
   "metadata": {},
   "outputs": [],
   "source": [
    "ds = load_breast_cancer()"
   ]
  },
  {
   "cell_type": "code",
   "execution_count": 563,
   "id": "64517400-86e0-4eb5-b118-dcef98a6a204",
   "metadata": {
    "scrolled": true
   },
   "outputs": [],
   "source": [
    "X,y =ds['data'],ds['target']"
   ]
  },
  {
   "cell_type": "code",
   "execution_count": 564,
   "id": "d974b226-587b-4bb4-aedb-79d431b16e25",
   "metadata": {},
   "outputs": [],
   "source": [
    "X= ss.fit_transform(X)"
   ]
  },
  {
   "cell_type": "code",
   "execution_count": 565,
   "id": "16220f0e-0236-4e45-9878-66e5f2e8f89e",
   "metadata": {},
   "outputs": [],
   "source": [
    "X_train, X_test, y_train, y_test = train_test_split(\n",
    "    X, y, test_size=0.33, random_state=42)"
   ]
  },
  {
   "cell_type": "code",
   "execution_count": 566,
   "id": "81512fb3-8cdd-49f4-8c40-096f9c25454e",
   "metadata": {},
   "outputs": [],
   "source": [
    "svc = SVM(X_train,y_train)"
   ]
  },
  {
   "cell_type": "code",
   "execution_count": 567,
   "id": "2e04e311-771b-4fed-8294-ef85d08e3c14",
   "metadata": {},
   "outputs": [],
   "source": [
    "svc.fit()"
   ]
  },
  {
   "cell_type": "code",
   "execution_count": 568,
   "id": "8b9d8132-c16a-4c62-aeef-7f2840d6e40b",
   "metadata": {},
   "outputs": [],
   "source": [
    "preds = svc.predict(X_test)"
   ]
  },
  {
   "cell_type": "code",
   "execution_count": 569,
   "id": "369f006e-b487-4a6f-abc8-153f22ab1c94",
   "metadata": {},
   "outputs": [
    {
     "data": {
      "text/plain": [
       "0.9787234042553191"
      ]
     },
     "execution_count": 569,
     "metadata": {},
     "output_type": "execute_result"
    }
   ],
   "source": [
    "# accuracy\n",
    "(preds == np.where(y_test<=0,-1,1)).sum() / len(preds)"
   ]
  },
  {
   "cell_type": "markdown",
   "id": "eeac5248-c89a-4bb7-86c9-0a194a772d34",
   "metadata": {},
   "source": [
    "## Recommender Systems"
   ]
  },
  {
   "cell_type": "markdown",
   "id": "eb6ee369-170e-479d-ba09-ff8fa42659f3",
   "metadata": {},
   "source": [
    "* Suggest products, content or services to users based up on their preferences and behaviour.\n",
    "    * Content Based Methods: Only based on users activity and interests\n",
    "    * Colloborative Filtering: Learned patterns from across the users. Similar users have similar interests.\n",
    "    * Hybrid: Mixture of content-based and colloborative methods\n",
    "* Cold-start problem: New users or platforms have very little data, so they can not be directly used to make recommendations. To fix: use domain knowledge, transfer learning from similar problems, recommend based on popularity, geographical bounds, maintain diversity etc."
   ]
  },
  {
   "cell_type": "markdown",
   "id": "ef63feb7-f31a-41bc-a2f4-f450b541b034",
   "metadata": {},
   "source": [
    "### Content-Based"
   ]
  },
  {
   "cell_type": "code",
   "execution_count": 24,
   "id": "16f950a1-5fba-49b7-89f3-0d935a30fe93",
   "metadata": {},
   "outputs": [],
   "source": [
    "def compute_cosine():\n",
    "    items = np.random.randn(100,20)\n",
    "    items = items / np.linalg.norm(items,axis=1)[:, None]\n",
    "    cosine_matrix = np.dot(items, items.T)\n",
    "    return cosine_matrix\n",
    "def recommend_using_cosine(i):\n",
    "    top_k = np.argsort(cosine_matrix[i])[::-1][0:5]\n",
    "    return top_k"
   ]
  },
  {
   "cell_type": "code",
   "execution_count": 25,
   "id": "61448009-a258-4a55-83a9-9e06f7e24038",
   "metadata": {},
   "outputs": [],
   "source": [
    "cosine_matrix = compute_cosine()"
   ]
  },
  {
   "cell_type": "code",
   "execution_count": 26,
   "id": "d1c283e8-50eb-42b7-9589-173efa989828",
   "metadata": {},
   "outputs": [
    {
     "data": {
      "text/plain": [
       "array([ 0, 10, 28, 44, 62])"
      ]
     },
     "execution_count": 26,
     "metadata": {},
     "output_type": "execute_result"
    }
   ],
   "source": [
    "recommend_using_cosine(0)"
   ]
  },
  {
   "cell_type": "code",
   "execution_count": 27,
   "id": "6a643f61-fb27-4035-9d0c-a5c3c5ab61b7",
   "metadata": {},
   "outputs": [
    {
     "data": {
      "text/plain": [
       "array([10,  0, 62, 37,  1])"
      ]
     },
     "execution_count": 27,
     "metadata": {},
     "output_type": "execute_result"
    }
   ],
   "source": [
    "recommend_using_cosine(10)"
   ]
  },
  {
   "cell_type": "markdown",
   "id": "62064383-e5d5-4ab5-81f8-d2689f679c30",
   "metadata": {},
   "source": [
    "### Colloborative Filtering\n",
    "\n",
    "* Do matrix factorization of user-item interactions\n",
    "* User-item => User-latent Item-latent\n",
    "* You can compute: user-user, item-item, user-item\n",
    "* Loss: Mean Squared Error"
   ]
  },
  {
   "cell_type": "code",
   "execution_count": 98,
   "id": "2cac8772-dfc7-41f7-8c1e-bae285d91e66",
   "metadata": {},
   "outputs": [],
   "source": [
    "user_item_matrix = np.random.randint(0,1,(100,20))\n",
    "# 100 users, 20 items"
   ]
  },
  {
   "cell_type": "code",
   "execution_count": 99,
   "id": "289cfd1f-ec8d-4c2b-8fd8-94a4ac3398c1",
   "metadata": {},
   "outputs": [
    {
     "data": {
      "text/plain": [
       "(100, 20)"
      ]
     },
     "execution_count": 99,
     "metadata": {},
     "output_type": "execute_result"
    }
   ],
   "source": [
    "user_item_matrix.shape"
   ]
  },
  {
   "cell_type": "code",
   "execution_count": 113,
   "id": "859dca40-7a0b-4673-a912-0ab7cabd2a13",
   "metadata": {},
   "outputs": [],
   "source": [
    "def matrix_factorization(user_item_matrix,k=5,learning_rate=0.1,steps=1000):\n",
    "    n_users = user_item_matrix.shape[0] \n",
    "    n_items = user_item_matrix.shape[1] \n",
    "    U = np.random.rand(n_users, k) \n",
    "    V = np.random.rand(n_items,k) \n",
    "    loss_list = []\n",
    "    for n in range(steps):\n",
    "        for i in range(n_users):\n",
    "            for j in range(n_items):\n",
    "                rating = user_item_matrix[i][j]\n",
    "                if rating > 0:\n",
    "                    err = (rating - np.dot(user_item_matrix[i,:],user_item_matrix[j,:].T))\n",
    "                    # gradient step\n",
    "                    for each_k in range(k):\n",
    "                        U[i][each_k] -= learning_rate * (2 * err * V[j][each_k])\n",
    "                        V[j][each_k] -= learning_rate * (2 * err * U[i][each_k])\n",
    "        # compute loss\n",
    "        loss_iter = np.sum((user_item_matrix - np.dot(U,V.T)) ** 2)\n",
    "        loss_list.append(loss_iter)\n",
    "    return U, V, loss_list\n",
    "                "
   ]
  },
  {
   "cell_type": "code",
   "execution_count": 114,
   "id": "0daa71dc-39fe-4efe-93a4-7740c947c592",
   "metadata": {},
   "outputs": [],
   "source": [
    "U,V, loss_list = matrix_factorization(user_item_matrix)"
   ]
  },
  {
   "cell_type": "code",
   "execution_count": 116,
   "id": "5946c315-0004-417d-82e7-9da47033ca3a",
   "metadata": {},
   "outputs": [
    {
     "data": {
      "text/plain": [
       "<Axes: >"
      ]
     },
     "execution_count": 116,
     "metadata": {},
     "output_type": "execute_result"
    },
    {
     "data": {
      "image/png": "[encoded data removed]",
      "text/plain": [
       "<Figure size 640x480 with 1 Axes>"
      ]
     },
     "metadata": {},
     "output_type": "display_data"
    }
   ],
   "source": [
    "sns.lineplot(loss_list)"
   ]
  },
  {
   "cell_type": "markdown",
   "id": "f8bfeab9-7543-44b4-a25b-66712e84bf84",
   "metadata": {},
   "source": [
    "## Unsupervised learning"
   ]
  },
  {
   "cell_type": "code",
   "execution_count": null,
   "id": "b6ac1c36-44f5-46ff-b4ef-b81edbeb5bb9",
   "metadata": {},
   "outputs": [],
   "source": []
  },
  {
   "cell_type": "code",
   "execution_count": null,
   "id": "42362526-ca52-425f-a663-5555feae6f39",
   "metadata": {},
   "outputs": [],
   "source": []
  },
  {
   "cell_type": "code",
   "execution_count": null,
   "id": "e2236ce0-e488-40d9-9238-78993aa6e271",
   "metadata": {},
   "outputs": [],
   "source": []
  },
  {
   "cell_type": "code",
   "execution_count": null,
   "id": "d2afe229-ee7c-4793-8f1e-237a83eb139b",
   "metadata": {},
   "outputs": [],
   "source": []
  }
 ],
 "metadata": {
  "kernelspec": {
   "display_name": "Python 3 (ipykernel)",
   "language": "python",
   "name": "python3"
  },
  "language_info": {
   "codemirror_mode": {
    "name": "ipython",
    "version": 3
   },
   "file_extension": ".py",
   "mimetype": "text/x-python",
   "name": "python",
   "nbconvert_exporter": "python",
   "pygments_lexer": "ipython3",
   "version": "3.12.2"
  }
 },
 "nbformat": 4,
 "nbformat_minor": 5
}

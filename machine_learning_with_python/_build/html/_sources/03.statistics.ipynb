{
 "cells": [
  {
   "cell_type": "markdown",
   "id": "6e1f23ec-1ac5-4b12-9643-ae096892b531",
   "metadata": {},
   "source": [
    "## Hypothesis Testing\n",
    "\n",
    "* Make informed decisions from data\n",
    "* Steps:\n",
    "    * Formulate a hypothesis\n",
    "    * Collect a sample\n",
    "    * Use the sample to reject or accept the hypothesis\n",
    "    * Make a decision based on test results\n",
    "* Types of Hypothesis:\n",
    "    * Null Hypothesis: No effect\n",
    "    * Alternative Hypothesis: Effect or difference is observed\n",
    "    * Instead of trying to prove our hypothesis is correct, we try to disprove or reject the null hypothesis. If the null hypothesis is false, we proclaim that the alternative hypothesis must be true.\n",
    "* How to do a test?\n",
    "    * Test Statistic: We compute a numerical value that measures the difference between groups\n",
    "    * p-value: The probability of observing the test statistic assuming that the null hypothesis is true. Typically, we aim to have this value as low as possible.\n",
    "    * Significance level: We assign a significance level eg. 0.05\n",
    "        * If p-value <= 0.05, we reject the null hypothesis, so the observed difference between groups is statistically significant.\n",
    "        * If p-value > 0.05, we have to accept the null hypothesis, so the observed difference can not be true. "
   ]
  },
  {
   "cell_type": "markdown",
   "id": "cc5b824c-01cd-4fd5-b141-ea5ca7aa2dcd",
   "metadata": {},
   "source": [
    "## Common Types of Hypothesis Testing\n",
    "\n",
    "* t-test: Compares the means of two groups or compare the mean of the sample with the population\n",
    "* z-test: Compares sample proportion to a population proportion\n",
    "* ANOVA-test: Compares means of three or more groups"
   ]
  },
  {
   "cell_type": "markdown",
   "id": "f83d41ff-1ba5-4ba9-828e-e0007de5ae8a",
   "metadata": {},
   "source": [
    "### t-test"
   ]
  },
  {
   "cell_type": "markdown",
   "id": "a115ec17-c2bd-4b25-abb8-a253da8d47e4",
   "metadata": {},
   "source": [
    "* Let's assume a company produces the same product in two manufacturing units A and B and they measured the length of the product at both units.\n",
    "* Now, if we want to compare if there are significant differences between the products produced in different units, we can do a t-test."
   ]
  },
  {
   "cell_type": "code",
   "execution_count": 2,
   "id": "e33fe809-9fb3-4984-bcb3-f56be6535b9a",
   "metadata": {},
   "outputs": [],
   "source": [
    "import numpy as np\n",
    "from scipy import stats"
   ]
  },
  {
   "cell_type": "code",
   "execution_count": 3,
   "id": "0530b238-8515-4ddb-b35c-9bb6dab07098",
   "metadata": {},
   "outputs": [],
   "source": [
    "plant_a = [7.1, 7.3, 7.2, 7.4, 7.1, 7.5, 7.3, 7.2, 7.4, 7.6]\n",
    "plant_b = [7.5, 7.6, 7.4, 7.7, 7.6, 7.5, 7.8, 7.7, 7.6, 7.9]"
   ]
  },
  {
   "cell_type": "code",
   "execution_count": 4,
   "id": "8874a338-2b7f-4162-92a3-0a1e0ab2414d",
   "metadata": {},
   "outputs": [],
   "source": [
    "t_stat, p_val = stats.ttest_ind(plant_a, plant_b)"
   ]
  },
  {
   "cell_type": "code",
   "execution_count": 5,
   "id": "91e46541-3176-4125-98fc-c0a755eec172",
   "metadata": {},
   "outputs": [
    {
     "name": "stdout",
     "output_type": "stream",
     "text": [
      "t-statistic: -4.525483399593919\n",
      "p-value: 0.0002618655396325686\n"
     ]
    }
   ],
   "source": [
    "print(\"t-statistic:\", t_stat)\n",
    "print(\"p-value:\", p_val)"
   ]
  },
  {
   "cell_type": "markdown",
   "id": "1cc5f75d-6dab-4824-b401-359bfc12d970",
   "metadata": {},
   "source": [
    "Null Hypothesis: The products from two units are similar.\n",
    "\n",
    "Alternative Hypothesis: There is a significant difference between the products.\n",
    "\n",
    "Since the p-value is less than 0.05, we reject the null hypothesis. We can statistically say that the products produced in units A and B are significantly different."
   ]
  },
  {
   "cell_type": "markdown",
   "id": "442762f5-dfc9-4695-8823-dc0d2fa0c031",
   "metadata": {},
   "source": [
    "### z-test\n",
    "\n",
    "* Let's say a company wants to test a new change to the website. They rolled out this feature to 300 users out of 1000. The remaining 700 users are shown the old website. Now, they looked at conversion percentage on New vs Old and would like to know if the change lead to a increase in conversion.\n",
    "* Steps:\n",
    "    * Compute probabilities of clicks in both variants\n",
    "    * Compute z-statistic and standard error\n",
    "    * Compute p-value "
   ]
  },
  {
   "cell_type": "code",
   "execution_count": 6,
   "id": "62671202-e87f-4606-ab66-1754ee23c156",
   "metadata": {},
   "outputs": [],
   "source": [
    "new_web_users = 300\n",
    "old_web_users = 700\n",
    "new_web_clicks = 150\n",
    "old_web_clicks = 250"
   ]
  },
  {
   "cell_type": "code",
   "execution_count": 7,
   "id": "901aa3af-5ba8-476f-bed0-e0d7dbfe5e20",
   "metadata": {},
   "outputs": [],
   "source": [
    "prob_clicks_new = new_web_clicks / new_web_users\n",
    "prob_clicks_old = old_web_clicks / old_web_users"
   ]
  },
  {
   "cell_type": "code",
   "execution_count": 9,
   "id": "3d93cf4c-808c-4812-8967-f19502757a43",
   "metadata": {},
   "outputs": [],
   "source": [
    "se = (np.sqrt((prob_clicks_new * (1 - prob_clicks_new) / new_web_clicks) \n",
    "              + (prob_clicks_old * (1 - prob_clicks_old) / old_web_clicks)))"
   ]
  },
  {
   "cell_type": "code",
   "execution_count": 11,
   "id": "14a8a733-335e-46c5-a16b-b265cc3efb8c",
   "metadata": {},
   "outputs": [],
   "source": [
    "z_stat = (prob_clicks_new-prob_clicks_old) / se"
   ]
  },
  {
   "cell_type": "code",
   "execution_count": 12,
   "id": "b1f9cdf9-8825-4f15-af7e-402d11f6b575",
   "metadata": {},
   "outputs": [
    {
     "data": {
      "text/plain": [
       "2.8097574347450816"
      ]
     },
     "execution_count": 12,
     "metadata": {},
     "output_type": "execute_result"
    }
   ],
   "source": [
    "z_stat"
   ]
  },
  {
   "cell_type": "code",
   "execution_count": 13,
   "id": "a800f8f1-671c-4c34-9a2c-9c6d856c40ff",
   "metadata": {},
   "outputs": [],
   "source": [
    "p_val = stats.norm.sf(abs(z_stat))"
   ]
  },
  {
   "cell_type": "code",
   "execution_count": 14,
   "id": "ecc8ec7e-7e95-48b3-9971-c7a1656dcbed",
   "metadata": {},
   "outputs": [
    {
     "data": {
      "text/plain": [
       "0.002478942540635378"
      ]
     },
     "execution_count": 14,
     "metadata": {},
     "output_type": "execute_result"
    }
   ],
   "source": [
    "p_val"
   ]
  },
  {
   "cell_type": "markdown",
   "id": "a4440e81-19fc-4570-a3e2-dc8dedb20694",
   "metadata": {},
   "source": [
    "* Since the p-value is very less, the observed difference between groups is statistically significant. So, the new change worked and lead to increase in click rate."
   ]
  },
  {
   "cell_type": "markdown",
   "id": "284cbfe9-f1fc-495a-86e4-ff4c81a32901",
   "metadata": {},
   "source": [
    "### ANOVA\n",
    "\n",
    "* An extension of t-test to multiple groups.\n",
    "* Used to compare if there is any difference between difference groups.\n",
    "* For example, we consider three groups spread across three countries and observe their click rate.\n",
    "    * G1, G2, G3\n",
    "    * Null Hypotheis: Means G1 == G2 == G3\n",
    "    * Alternative Hypothesis: Atleast one of the groups is significantly different.\n",
    "* Computation:\n",
    "    * Sum of Squares Between: Sum of squared differences between group means and overall mean\n",
    "    * Sum of Squares Within: Sum of squared difference between each point and its group mean\n",
    "    * Compute Mean sum of squares Between\n",
    "    * Compute Mean sum of squares Within\n",
    "    * F-ratio: Mean Between / Mean Within\n",
    "    * p-value: Probability of observing f-ration"
   ]
  },
  {
   "cell_type": "code",
   "execution_count": 15,
   "id": "3d615112-36c3-4862-8a57-4c173466907e",
   "metadata": {},
   "outputs": [],
   "source": [
    "g1 = [100, 120, 110, 130, 140, 120, 110, 130, 140, 150]\n",
    "g2 = [90, 100, 110, 120, 130, 140, 150, 160, 170, 180]\n",
    "g3 = [80, 90, 100, 110, 120, 130, 140, 150, 160, 170]"
   ]
  },
  {
   "cell_type": "code",
   "execution_count": 17,
   "id": "718cd62e-41ed-424e-a253-431869111745",
   "metadata": {},
   "outputs": [
    {
     "name": "stdout",
     "output_type": "stream",
     "text": [
      "F-Ratio: 0.48\n",
      "p-value: 0.623963320632972\n"
     ]
    }
   ],
   "source": [
    "f_stat, p_val = stats.f_oneway(g1, g2, g3)\n",
    "\n",
    "print(\"F-Ratio:\", f_stat)\n",
    "print(\"p-value:\", p_val)"
   ]
  },
  {
   "cell_type": "markdown",
   "id": "14655fad-ae02-4454-bfd4-4d346e9082c0",
   "metadata": {},
   "source": [
    "Since p-value > 0.05, we can not reject the null hypothesis so it must be true, so we conclude the country specific differences that we see are not statistically significant."
   ]
  },
  {
   "cell_type": "code",
   "execution_count": 19,
   "id": "f43f7a9a-d76f-4312-90d4-52956ae61c78",
   "metadata": {},
   "outputs": [
    {
     "data": {
      "text/plain": [
       "(125.0, 135.0, 125.0)"
      ]
     },
     "execution_count": 19,
     "metadata": {},
     "output_type": "execute_result"
    }
   ],
   "source": [
    "np.mean(g1), np.mean(g2), np.mean(g3)"
   ]
  },
  {
   "cell_type": "markdown",
   "id": "8acab475-745d-4d2d-9932-eaa9dc5b52de",
   "metadata": {},
   "source": [
    "* How to communicate results of ANOVA to a stakeholder who isn't well versed in statistics?\n",
    "    * Show interactions\n",
    "    * Bar chart between groups"
   ]
  },
  {
   "cell_type": "code",
   "execution_count": null,
   "id": "e97ffa83-9858-4ab4-9b38-7e061efe0d86",
   "metadata": {},
   "outputs": [],
   "source": []
  },
  {
   "cell_type": "code",
   "execution_count": null,
   "id": "3aa77b52-a924-44bc-88cc-b9aff3bdfc1c",
   "metadata": {},
   "outputs": [],
   "source": []
  }
 ],
 "metadata": {
  "kernelspec": {
   "display_name": "Python 3 (ipykernel)",
   "language": "python",
   "name": "python3"
  },
  "language_info": {
   "codemirror_mode": {
    "name": "ipython",
    "version": 3
   },
   "file_extension": ".py",
   "mimetype": "text/x-python",
   "name": "python",
   "nbconvert_exporter": "python",
   "pygments_lexer": "ipython3",
   "version": "3.12.2"
  }
 },
 "nbformat": 4,
 "nbformat_minor": 5
}
